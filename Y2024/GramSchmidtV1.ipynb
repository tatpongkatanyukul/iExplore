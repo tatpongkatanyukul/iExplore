{
  "nbformat": 4,
  "nbformat_minor": 0,
  "metadata": {
    "colab": {
      "provenance": []
    },
    "kernelspec": {
      "name": "python3",
      "display_name": "Python 3"
    },
    "language_info": {
      "name": "python"
    }
  },
  "cells": [
    {
      "cell_type": "markdown",
      "source": [
        "From Strang's Introduction to Linear Algebra, 5th ed., pp. 239.\n",
        "\n"
      ],
      "metadata": {
        "id": "S_Gqj6hpxn70"
      }
    },
    {
      "cell_type": "code",
      "source": [
        "import numpy as np"
      ],
      "metadata": {
        "id": "nr1sOuVny4RV"
      },
      "execution_count": null,
      "outputs": []
    },
    {
      "cell_type": "code",
      "source": [
        "A = np.array([[1.0, 2.0], [5., -1.]])"
      ],
      "metadata": {
        "id": "KRJAc5Gly7IZ"
      },
      "execution_count": null,
      "outputs": []
    },
    {
      "cell_type": "code",
      "source": [
        "np.linalg.norm(A)"
      ],
      "metadata": {
        "colab": {
          "base_uri": "https://localhost:8080/"
        },
        "id": "R7RWOsbFzAIq",
        "outputId": "1a9269a9-209c-428c-baab-c721d84db1c1"
      },
      "execution_count": null,
      "outputs": [
        {
          "output_type": "execute_result",
          "data": {
            "text/plain": [
              "5.5677643628300215"
            ]
          },
          "metadata": {},
          "execution_count": 4
        }
      ]
    },
    {
      "cell_type": "code",
      "execution_count": null,
      "metadata": {
        "id": "OoDBRFDzxbgJ"
      },
      "outputs": [],
      "source": [
        "def GramSchmidt(A):\n",
        "    Q = A.copy()\n",
        "    R = np.zeros(A.shape)\n",
        "    n, _ = A.shape\n",
        "    for j in range(n):\n",
        "        v = A[:,[j]].copy()            # (n,1)\n",
        "        for i in range(j):\n",
        "            R[i,j] = Q[:,[i]].T @ v\n",
        "            v = v - R[i,j] * Q[:,[i]]\n",
        "        R[j,j] = np.linalg.norm(v)\n",
        "        Q[:,[j]] = v / R[j,j]\n",
        "    return Q, R\n"
      ]
    },
    {
      "cell_type": "code",
      "source": [
        "Q, R = GramSchmidt(A)"
      ],
      "metadata": {
        "id": "kqtzEKqlzaT4"
      },
      "execution_count": null,
      "outputs": []
    },
    {
      "cell_type": "code",
      "source": [
        "Q"
      ],
      "metadata": {
        "colab": {
          "base_uri": "https://localhost:8080/"
        },
        "id": "TWOf9OVazkCu",
        "outputId": "a33eab9d-5916-4d75-99f6-60d985ba3c91"
      },
      "execution_count": null,
      "outputs": [
        {
          "output_type": "execute_result",
          "data": {
            "text/plain": [
              "array([[ 0.19611614,  0.98058068],\n",
              "       [ 0.98058068, -0.19611614]])"
            ]
          },
          "metadata": {},
          "execution_count": 39
        }
      ]
    },
    {
      "cell_type": "code",
      "source": [
        "R"
      ],
      "metadata": {
        "colab": {
          "base_uri": "https://localhost:8080/"
        },
        "id": "EobqGKN_zlT-",
        "outputId": "9f345e0a-ae82-415b-a819-25472a993c1e"
      },
      "execution_count": null,
      "outputs": [
        {
          "output_type": "execute_result",
          "data": {
            "text/plain": [
              "array([[ 5.09901951, -0.58834841],\n",
              "       [ 0.        ,  2.15727749]])"
            ]
          },
          "metadata": {},
          "execution_count": 40
        }
      ]
    },
    {
      "cell_type": "code",
      "source": [
        "Q[:,[0]].T @ Q[:,[0]]"
      ],
      "metadata": {
        "colab": {
          "base_uri": "https://localhost:8080/"
        },
        "id": "xCxnltRw1ZLr",
        "outputId": "7d85c15a-569d-40d1-db92-29309042b8eb"
      },
      "execution_count": null,
      "outputs": [
        {
          "output_type": "execute_result",
          "data": {
            "text/plain": [
              "array([[1.]])"
            ]
          },
          "metadata": {},
          "execution_count": 44
        }
      ]
    },
    {
      "cell_type": "code",
      "source": [
        "Q[:,[1]].T @ Q[:,[1]]"
      ],
      "metadata": {
        "colab": {
          "base_uri": "https://localhost:8080/"
        },
        "id": "LC228pvY1mA9",
        "outputId": "edeed693-798b-4ce2-dad1-d6eaf902b6eb"
      },
      "execution_count": null,
      "outputs": [
        {
          "output_type": "execute_result",
          "data": {
            "text/plain": [
              "array([[1.]])"
            ]
          },
          "metadata": {},
          "execution_count": 45
        }
      ]
    },
    {
      "cell_type": "code",
      "source": [
        "Q[:,[0]].T @ Q[:,[1]]"
      ],
      "metadata": {
        "colab": {
          "base_uri": "https://localhost:8080/"
        },
        "id": "xST81rzy1o6Y",
        "outputId": "e9612099-96ec-4336-fe3c-92a5b69bc7f6"
      },
      "execution_count": null,
      "outputs": [
        {
          "output_type": "execute_result",
          "data": {
            "text/plain": [
              "array([[2.77555756e-17]])"
            ]
          },
          "metadata": {},
          "execution_count": 46
        }
      ]
    },
    {
      "cell_type": "markdown",
      "source": [
        "Almost $0$.\n",
        "It seems right!\n",
        "Wow!!!"
      ],
      "metadata": {
        "id": "bmXeR1w51txF"
      }
    },
    {
      "cell_type": "markdown",
      "source": [
        "I'm tired.\n",
        "\n",
        "Next, I'll check it more thoroughly."
      ],
      "metadata": {
        "id": "fn3bvpTB1yXw"
      }
    },
    {
      "cell_type": "code",
      "source": [
        "A = np.array([[1.0, 2.0, 1], [5., -1., 0], [2.3, 4, 1]])"
      ],
      "metadata": {
        "id": "dVIjD25p163g"
      },
      "execution_count": null,
      "outputs": []
    },
    {
      "cell_type": "code",
      "source": [
        "Q, R = GramSchmidt(A)"
      ],
      "metadata": {
        "id": "AeDmgAZ92C2D"
      },
      "execution_count": null,
      "outputs": []
    },
    {
      "cell_type": "code",
      "source": [
        "Q"
      ],
      "metadata": {
        "colab": {
          "base_uri": "https://localhost:8080/"
        },
        "id": "uVEnYwdR2Dsi",
        "outputId": "300fea5e-95d2-40bd-f2e8-4745d4d40514"
      },
      "execution_count": null,
      "outputs": [
        {
          "output_type": "execute_result",
          "data": {
            "text/plain": [
              "array([[ 0.17877106,  0.40522831,  0.89656618],\n",
              "       [ 0.89385531, -0.44770613,  0.02412286],\n",
              "       [ 0.41117344,  0.79708797, -0.44225238]])"
            ]
          },
          "metadata": {},
          "execution_count": 49
        }
      ]
    },
    {
      "cell_type": "code",
      "source": [
        "R"
      ],
      "metadata": {
        "colab": {
          "base_uri": "https://localhost:8080/"
        },
        "id": "TgF3De502E-i",
        "outputId": "fdf7fa1b-7802-4c77-e711-8297d657ad12"
      },
      "execution_count": null,
      "outputs": [
        {
          "output_type": "execute_result",
          "data": {
            "text/plain": [
              "array([[5.59374651, 1.10838058, 0.5899445 ],\n",
              "       [0.        , 4.44651465, 1.20231629],\n",
              "       [0.        , 0.        , 0.45431381]])"
            ]
          },
          "metadata": {},
          "execution_count": 50
        }
      ]
    },
    {
      "cell_type": "code",
      "source": [
        "Q @ R - A"
      ],
      "metadata": {
        "colab": {
          "base_uri": "https://localhost:8080/"
        },
        "id": "tQtMa70J2G7N",
        "outputId": "67e0ee35-c26b-4f28-8a54-c6df7fefb7c7"
      },
      "execution_count": null,
      "outputs": [
        {
          "output_type": "execute_result",
          "data": {
            "text/plain": [
              "array([[ 0.00000000e+00,  0.00000000e+00, -1.11022302e-16],\n",
              "       [ 0.00000000e+00,  1.11022302e-16,  3.71129946e-17],\n",
              "       [ 0.00000000e+00,  0.00000000e+00,  0.00000000e+00]])"
            ]
          },
          "metadata": {},
          "execution_count": 52
        }
      ]
    },
    {
      "cell_type": "code",
      "source": [
        "Q.T @ Q"
      ],
      "metadata": {
        "colab": {
          "base_uri": "https://localhost:8080/"
        },
        "id": "Mpqo7nDW2Ltk",
        "outputId": "1349999c-ce06-4110-8c31-33e1b16f50b7"
      },
      "execution_count": null,
      "outputs": [
        {
          "output_type": "execute_result",
          "data": {
            "text/plain": [
              "array([[ 1.00000000e+00,  7.29018875e-18, -1.85365942e-16],\n",
              "       [ 7.29018875e-18,  1.00000000e+00, -4.56952144e-16],\n",
              "       [-1.85365942e-16, -4.56952144e-16,  1.00000000e+00]])"
            ]
          },
          "metadata": {},
          "execution_count": 53
        }
      ]
    },
    {
      "cell_type": "markdown",
      "source": [
        "It's correct!!!\n",
        "\n",
        "Right in the first time!!!"
      ],
      "metadata": {
        "id": "l_mlPngH2igQ"
      }
    }
  ]
}