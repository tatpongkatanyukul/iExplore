{
  "nbformat": 4,
  "nbformat_minor": 0,
  "metadata": {
    "colab": {
      "provenance": [],
      "toc_visible": true
    },
    "kernelspec": {
      "name": "python3",
      "display_name": "Python 3"
    },
    "language_info": {
      "name": "python"
    }
  },
  "cells": [
    {
      "cell_type": "code",
      "source": [
        "import numpy as np\n",
        "from matplotlib import pyplot as plt"
      ],
      "metadata": {
        "id": "dtdhzMhwr-FU"
      },
      "execution_count": 2,
      "outputs": []
    },
    {
      "cell_type": "markdown",
      "source": [
        "What is the solution to $\\ddot{x} = - x$ ?"
      ],
      "metadata": {
        "id": "e993XgA2nTOb"
      }
    },
    {
      "cell_type": "markdown",
      "source": [
        "![image.png](data:image/png;base64,iVBORw0KGgoAAAANSUhEUgAAAS4AAADCCAYAAAD3sS8OAAAgAElEQVR4Ae3dCbh+1fQH8BSipEIJoSRzhshMIRoUGUJkyJB5iMgUUmRoohIqwz8yNJgiFQqZqQyZUuYpY+Z5/5/P9uzr/M7v3He495zzvu99136ee895z9nD2mvv/d1rrb33OmukGQhrrLFGqv/NANlBYnAgONARB9boKN9Ws62Dlt8RggPBgfnlwEwgQADX/HbQqHlwoIkDAVxNXIlnwYHgwFRzIIBrqpsniAsOBAeaOBDA1cSVeBYcCA5MNQcCuKa6eYK44EBwoIkDAVxNXIlnwYHgwFRzIIBrqpsniAsOBAeaOBDA1cSVeBYcCA5MNQcCuKa6eYK44EBwoIkDAVxNXIlnwYHgwFRzIIBrqpsniAsOBAeaOBDA1cSVeBYcCA5MNQcCuKa6eYK44EBwoIkDAVxNXIlnwYHgwFRzIIBrqpsniAsOBAeaOBDA1cSVeBYcCA5MNQcCuKa6eYK44EBwoIkDAVxNXIlnvXCgyUFkPFvdTfms86SLzhTA1QVXI8+RODDrAzLoHw1kR+oMY0YK4BqTYRG9PQ7EwB9t4M86n9rrMf/LKYDrf7yIu545MOsDMugfDXi76FYBXF1wNfIciQMx8Ecb+LPOp5E6w5iRArjGZFhEb48DTQOyvdwjp0lwoK82DeCaROtGmZkDfXXyYHd/HOirTQO4+mvTKKnGgb46ea3Y+NkhB/pq0wCuDhsxsh7Mgb46+WAq4m2bHOirTQO42my1yGssDvTVycciKiIviwN9tWkA17KaKRIvhwN9dfLl0Bhpx+NAX206MeD697//nfz95z//GcqZvpgxlJCI0CoHol1bZedUZNZXm04EuP75z3+mb3/72+krX/lK+tWvfjUUvPpixlS0/BwREe268hq7rzadCHBddtll6TnPeU66613vmo4//vj05z//eWAL9sWMgUTEy9Y5EO3aOksnnmFfbToR4PrTn/6U9ttvv7Teeuul3XffPf34xz8eyPC+mDGQiHjZOgeiXVtn6cQz7KtNWwOun/3sZ+nMM89MX/ziF9Mll1ySfvvb36a//e1viVpYt2V59va3vz1d4xrXSDe4wQ3S17/+9YEM74sZA4lo4WVTPZb7rAWyJpZFU90nRkwU3AoH+mrT1oDr9NNPTze5yU3S7W53u/TABz4wPfWpT02vfe1r00knnZS+8IUvpO9///vp17/+dfrjH/+Y/v73v6cPf/jDaZNNNklXuMIV8vtBXOuLGYNoGOVdE52TfDYKzZOM08SbSdITZS+fA321aWvAdc4556Rb3epWaf3110+Xv/zl05prrpmuetWrps033zyD2Y477pie+MQnpiOOOCJ94AMfyKB2tatdLcf7/Oc/P5BjfTFjIBG1l000zcKzWjUm+rOJXxMlKApfNgf6atPWgOs3v/lNBqQXvOAFaeedd063uc1tshpIHVxrrbXS5S53uSxdXeUqV0kAC8ABt2te85rp/PPPH8iwvpgxiIgmGlbCs0F17vpdE/+6LjPy75YDfbVpa8BVZQeb1k9/+tN09tlnpyOPPDI95jGPSTvssEPaeuut0/Wud7207rrrprXXXjuDF5XyF7/4RTX5avd9MaNecFO5K/lZvf5d/27iZddlRv7dcqCvNu0EuOqsKUD2uc99Lr3nPe/JauJzn/vc9JrXvCZ961vfysb7eprq776Yocymstp6Vq1TG/dt0dWUTxv0DctjUuWiy8bnF7/4xenud797uuMd75j23HPP9IMf/GCB5N/97nfZtHHnO985v99ll13Sd7/73YX3cdPMgb7atBfgqlcRkBUjff1d0++umdGU/1KfNdE/qWdLrUM9XVf018vxu69w6aWXpjvc4Q7ZhKFcC0vf+MY3cvH/+te/0jve8Y606aabLkxk4gZwDW+dvtq0v54yvM6LxuiKGU35jvNsUYKn9MU4dWuK23a1+ihjMZotJm2xxRYLwMTm+uUvfzlH/+EPf5ge8IAH5EWmQuPDH/7wbP5YLL94/l8OFH5Vr13wZmLAZVazn2sSZxWrTB31vgvmT0Oeo9a/Gq8tuqt5lvu28h6Wj606G2644QJwWTxiytAn3/KWt6TrXOc66UpXulJeQELb8573vLw3cVi+8/6+tGP12gVPJgJc9nGde+65eS+X2Y3qOChUmVDuB8Uf9K6kH+U6KJ+V+G4UnpQ4bdS/5FW9tpHvsDwcMdtjjz3yavdGG22UQcoK9ymnnJLVQdLVla985bw6XsDtDW94Q/rHP/6xkLU+fNFFF6U3v/nN6ZGPfGS6293ulm1h97nPfRL77etf//oMdu9617uSkyIlFDPJJz/5yfTKV74yPfShD013uctdctp73/veyar8xz/+8VXSlLRA9Uc/+lHeG+nkyT3vec+cjo3uYQ97WC7TGWDxJhWqbVnuu6BlIsD1hz/8Ie2zzz5pq622SoccckhydnFQKAyoXgfFb3pXTTvsvin9PD0bxp/q++XwpZpPuV9OfqOm/c53vpON8la273e/++V7ew+PO+64dMIJJ+RtPMDgFa94Rbr2ta+dQezkk09e0A44BnDGlmHfJmogR2JTB1t/7F+0DUja6llcoAVY9t1332xTsy0IDdW0VNYHPehBOV61PsDogx/8YNptt93yyrwygG3hm3yU97KXvSz9/ve/rybt9b7QU712QUBrwIWxZqFRwl/+8pd0wAEH5O0QVmtIXYNClQnlflD8+ruSZtC1niZ+/5cDg3hW3i2VVyV99brUvMZJd9ppp6Utt9wyA8wLX/jCtOuuu2Z71qte9aq8ukhNPOqoozJwlWNpn/jEJ3IR9iseeuihOT2wAyD3ute90jOe8YwsaQFCUhowkpb0VCQgktfzn//8tPHGG2fQuda1rpXP6gIyEtQTnvCETMtee+2VvvnNb65Spa9+9avZKQH1Vbm3v/3t05Oe9KQs1T3rWc/KW47QYVxZEZ1UqLZlue+CltaAi9jMNuAoDyPnxRdfvOh5RfatE088MRHTr3/966evfe1rA+tWGFC9DkxQeVlNs9h9JfrU3ur83/ve99LHPvaxdOGFF448SbRVocV4V54vpZyStnpdSj7jpMFH9i2Ac/WrXz33w8c+9rHpile8YrrHPe6RJSinPPCYVsARAOlLn5b21FNPTTe72c2yZLXOOutk4LCBmtZABdWvAZI63fjGN84AVOy4v/zlL9M222yzICkBMSuV0v31r3/NLp78dnaXVlINgNR4kS9NBR1AlBAgrr2QxpH0VZW2mkcf99W2LPddlNsacDmrSGw2m5gNiLRmocMOOyy9733vy+cRHb7GbFshHPuxa17lGEUHhcKA6nVQ/PKuGr/pvsSrX3U0nczKExvGq1/96qzSvvOd70xf+tKXcmepp+n6N9B6/OMfnzbbbLPMW53bBNBnaOJh9dm4tFTTlvtx8xg3vvOyT3nKUzJQOaLmuNnTn/70/Js0Q0oiUemjbEjUMSuMJmJ99xGPeERWDdFLuqJ2FhstwHjjG9+YAdF7djTOB0qoA5f2JEkBnmFtCbjQJl+TPRVUfgCvlF/KmeS1tGP12gU9rQHXpz/96TwzmW3o6Q5P0/fdW3Z2+Jrh0k555xWJx94Re7s4q1hlXP1+GCPPOOOMbDS95S1vmTsLG4bd/vb1mDGdCOh7VlMm9YYKYnIgefVNQ+FbnZ/V3yXOKNdqunI/SrrlxLHhmUSlb5K0TKYkn2Jrsl/rs5/9bN76cOtb3zoDhXhAgucTUpQ2IG2xe/GAUgKwe/azn50ca1OfAw88cBW1jar4ohe9KLefPDbYYIM8ZqThjAAIAqIioZV8XUlT2223XR5XxoxxBlBt4tYX0DcNAFbasXqt1qOt+9aASwPSy0klOoLZqJxXZIQEZBqLSK5hAYHfQK1ttzZVptXvBzFOhwFawAmdOqdZrkiSbBdo/9SnPtV7J+FdwyF1A4dN4yc/+UljBx9Uvzbf1fla/T1qOdU05X7UtEuJp30N8hvd6Ea575lAqXhW90hbJig2L1IZLcBEod/aYU8le9vb3ragJZiI63YotlpSmjTqQ52r2n0BizTys+EVAPmjjjKs3//+909WIZsWq0xSH/nIR/LqIU3F2AG2wO8Wt7hFFghsoC32tKXwp400pR2r1zbyrefRGnDVM8ZADgIZJ60cMjha7r3tbW+b1R02BiLvQQcdNHR/TJUJ5b5eXvV3iVO/VuM03dtNbVlZxwNW9u6QdNg7zjvvvLxcTo0AGoLVm8985jOJ4Za4T5Vg7zjrrLPyM+pFtePW41udMosDS3lQB8sMTnUwiypXfjqtP/mjs65aGFjeyYtx1uyPbvznJ82AafI0Swqw0mV5/qMf/WiOyw3RsMlE/ev8rf5u4m/9WTV+ua/HafO3wf+mN70pT0aACs/xUZuaSAEVwPLMBAxMAMPrXve63I76g36LVg4wSz8oNFqVLPYtUjHX5PUAvAAjfivXBM/WBoj0O16Bvau3r3zQr0/ZtmHLhQkWeFFngS7Vc9i53zo9bf8u7Vi9tl2G/DoDrjqxBrA9KAYFsVhncG5xFEZXmVDu6/mX3+V9/VreD7qyN9zpTnfKHfOmN71psvpUgESHc1+1R5C8tt122zzjsdm99KUvzft5rnvd62ZJ0h4dwFY6YTV+6XzsgVaxSJ5E/9Jpgb787PGRHzXV/bvf/e5GGxujrP1H8kI3/u60007ZrZC0973vfRM7ZJmR0QTMSBtWdkkABp2ySBPbb7/9IFYtvKvzufxeiDDgpsStXgdEX/YrYE5aJTXf/OY3X5CY2KFMINQxqprwkpe8JEtCbIr6Kb49+clPzgCHXrwu9it9g7TjXCMJyntqJrV0UDCRkNKAKYea0pGmjj322IFmAG3HUafJhR2ZxCYtWqmbTQH9H/rQh3IfY382SVUn1aY0S3mGjvrfUvIZlqY34BpGyKD3dUb4vVgYJ249D/YOor48dG4OEUkwpTPX47Nx8DdGpbQUbZZlO5G+iPJseiQkocQ325M82fjKXhzxdXoDy4xstgZURe2Qp7zN0E3bR8Q3cOQHiEiz0spXWjMzI7S8qUxA2uCjxiu3xBNXHsoaNUhT/xslbT2N310GEq72Vd9HPepRC8BTL9OAZljHByuIJFZg4TsJBSR4OwESwIeU9uAHP3jBaK8e9mJVXZKbJEjAP//5z3MabeBPevuzAKl0Jo+3vvWtC8BlogSAZXEAbdIJJn3bH0iF0lKBTWBNAciR5phA9Av9lYTfdkBH/a/tMuTXWU8pDAcGOgxppTB83IrUGeF3U2iKt1jcpvREcbOd2c/ANdgB0+Me97isMrI9VOtgxZENzKCnapC+dDoAxYWPAUKiKrNgiY8mHcgGRvFJoBYClFlmcp2V4dVsT1ISV4ejHpT8qnUgzZES0UJtIEHZl2Rm9VyZVsSoN9rGviE2O3ToxNQcCyxWxUhoBuioYal8b0o3aplLiUdCuuENb5h5cfjhhy86IXHJBJjQRwK/4IILsk2TjYsJwXPq3d577513uttGYaLDc7z3/mlPe1ru94VOWyvkydDPBnzwwQfnP/fSm/wApT4ECElxAilQGsBoEiSFS6ttSYDaVj/TNxj5jbWmYJuSyazwXN+m/bQdSv7Va9tlyK8ZAVooycoMm5Y/DOeXy8xCJDcr6ByAYJTl3CoTxr0ftypoYiAlThO9dQidigGUWmXGFMzAfuuoOg7Vii2KzYiNSacGZgAJCBHV2fPE10HNfmZy8Yn9gIQ6p0OylQH64rdfZ8RHtACfoqKUugFTqmqxr6DbnjrpqEfADt/YGc3S1FczPDpIZ/YomfnlQxWlburk44Rx22Wx+OOUOW5coE0q9mcgLxbYCu3dQqN2ZeIQTMLayKA3QQB99yYckpxd93gvHYCpGtnLESNtKA2p219JLw31kglBm5Vg+w3wVFYpr6T1WxvqZzavmtD0y6ZA4iM9VvkOINsO1fzLfdtlyK8z4KKKWL7VqOXPLGUQ2ansfBf93ApLVaRuqmRhwFKuTfkNe8bQDVwN4kc/+tF545866JTvf//7c+fQKc1wOg8JRYcDQgLgYt/SwXQ6eQEhs7D4pJmjjz56oWObXb0HKgz4ZbYtdOqQZnODxTGUUk55X4zO+ItHzrvJCxABTR3WALEULy3ApSKKz32L9AJwVSfgakV4nLCUtmlKM06Z48YFXCRokg9wWixY0KCmA3DqtYlEAApAXr+1ust474wiflLFbMKmrpPKSK5VE4PJYv/99892R2lNMuJR7xj6LWBR9/W9alC2fgiYSN0ccUrnz9YNK80mWoJAvd9U89HGz3zmMxdUXX2ZNNd26KtNOwMue7OoS2YEg0ADUatIJyrnuYFtlcasMig0MWPUZ4PyHfTOoNfYQNWGRWADOIjpBr/npB8zqGXsMivLE1DZ3KiOgI+UZrbWQdWfFMaYq4xRgmV1g8jMSnWsd1D0UDnQSFIi7ZY4DLKls1MH1Yk6ivc6fpX3xQ6Ct9THccKo7TEs3jhljhtX3U0CHAZWQaWeD4mHTclqq7arSjHAnc0SSHkvrzLZsD9JZ7IwEVXbV9me6Sf6hzj+3Bfto7RZlR55kIatMCsL/SWtPuX5oLqUvPQRR4SotPolIDS5tR2a2rftMuTXGXAxapuRVMTAs6xv3wwpDPNIAAzU1Bd7lAaFJmaM+mxQvtV3OocOW7XF6UhmQAZQEgqpy6l/HaVqDLf3x8yog+vEls0Z3tWTXUue4pO+dBqSVzHYV2lY7J6UxR5lud5ufuWgV76CAcEYjKdsIVUJFu0AjS2EvUtaMzcQJi2QPAxGg4IkYSIhFQLrccKo7TEs3jhlRtzhHNBPtDEThElN/2Mm0Be0e9uhqX3bLkN+nQEXxhSbiyX+MvsAKchPTTHjl+X/QZVrYsY4zwblXd4R7a3oEdmpgwzijObsUkR7khUbBAM2QCPJkILQwXhKVaR2kbAsaQMRdjIrSfX4xxxzzGrqXqGj6QrogCA6AKc9Ri9/+csXtjfgKRscMAJUjO8CgLUvTWdlU0OLdiAhqo+tD+rnG5dW2ZyFk4eyGK9HDeO0xbC4o5YZ8YZzgGpqiw17nfGmbYGX7Rcm2C5CU/t2Uk4XmcqTv60ymJxXrDKKuOwDGmZ3RuxhIus4zBgnbrXuZWsAyQbwsCEw4pKcDHKzFJ9M7FdUAjYqUpjySDTSGPjsQyQWx0psGCUVVePLqyyvV8sfdG9PkSVvaXVA5bBR6IDyZpOhDlL/GIiLamO524oVSZFxuPAZ+FHbPVffcjqAhEyVVS8LKaOGpfJ8qelGpWve4wEsk5Z+oZ0duTMZ68NFkGibR321aWcSFymAgdpgoxKSUOwhMqj8GWAGjMFiuXlQGIcZTXE9GxaAgBU2UqLGlgZYaHwGayuGxW7BXkAdBFgF2MRng7L4QHUsK3XKrca31WJco6j4gLU6a5LyLGfjJQkOmLEjUiVLIM2yp1kVJYmVVS6qJPpJjGZhxnuGW5IY0DUrW1wZJSyV3/JuSjtKmRFnNA7QIJgQ9EeAZSJj+ugKtPps0+EjejQerRaLJEBCIbmY2Q0OS8SkDXuObOYjcXnX5iHrpsFQnq1GZOUB9YqdB4iix1Ix8GE8LfarEt1vy+IG+UMe8pBsLxCfoZvxFMBVDa3ABZDXd2eX/IZd5QVs2MmUA8gYdPFYsD1C2Z5Xl9JJueqjXHHQIVAh1bWaH5tkWQW2ybV+nCUnrP0rfG261qI2/lxqusbM4uFqHCAoMN7rB1Xb7WoRW3zQV5u2ClyQvDpgqSZQn8pVVhOrFTPbkxLK11UW4181TblfLK7nJU7TdVC6Ud+ZuQAx+ssq46hppyGe2dcszLZFnXUlbZlISGcmnCoANtHcxNvyrCl+07MSv3ptihfPZocD1bYs911Q3ypwkSrM4mV5l0RAUmDjskGPWkjXNkCoYXYxc+pG5x4UCgOq10HxvavGrd8PSzvsvbOA9m6pgxXTLkXvYbSM+94qk20Z7FjFtuXKDsIob3FBOw6qU52f1d/j0FNNV+7HSR9xp48DpR2r1y6obBW47BOyemUlwxK+3dz2BpFQbMCzUc6qnQ2S3lu9I5UNGiQqXWVCuR+FGSVu03WU9IvFUQf2JquMw9TcxfKY1HMqg6VxtjvAS2okDTuaZCOltioqZRONTbwsz5riD3pW0lWvg+LHu+nnQLUty30XVLcKXPYsUf3KHiazuiV8hmXL6+xb1EJSGJvSoAFSrWxhQPVafT/ovpqm6X5Q2sXeoZ9NSV0Y3mctkHDZ7tjw2MwY+dnmtMlik0gT76rPlsKDavpyv5R8Is30cKC0Y/XaBXWtAhfpic3El0ZshLTREZBRQRiySSkMwFbpuJ7l68qAKRspF6tglQnlfrG4Tc9LmkHXpnTxrFnarfNxqXyq5+N3hNnmQF9t2klPMWubvR2JYA+iWtmJbW+TpfZiBLYTfOedd86z/6DmaoMZTXk0PRtExzy9a+JN07Pl8KTt/JZDS6RthwN9tWknwFVYYGXKsrqld+fn3vve92YHbaSxsidJRakrg0KbzGjKa7Fng2haie8W48Niz5fLg6Z8l5tnpJ8sB/pq006By9d9OOPjGoSkZXe5FaxiA7PCaKXROcZBoW1mNOU37Nkg+mb53bB6N71vq75d5t0WjZHPeBzoq007BS7n/4CVVStn92x/4E7Y8ROO1Xz2y3fobNgcFLpiRlO+oz4bRO80vxu1fk3x2q5XH2W0TXPkN5gDfbVpq8BllZD7jrIyZeXKHi7+t/hUZ5j3fTi2L2pkdbPqIHZ0zYym/JfybFAdJvFuKXVoStMV7X2W1VUdIt9VOdBXm7YKXFYIbXlw9IRdyyqjYwd+OwsIwHyIwZESWyf4FRrl7FRfzNAETWW19WzVJm7nV1u01fNph7rBudTL9DvCbHOgrzZttafwt8Vm5Y+vJ7627N+yu9z5RN+0s1XCoWsHfK0yOmxdDv8u1mR9MaNeflO5K/1ZnQdd/m7iZZflRd7dc6CvNm0VuHz4gedPfp54SmDX4h2CjcsubZ4TGOsBGjcsxeXGMKf9fTFjULM20bBSng2qd5fvmvjXZXklbyc6uA7n55+LJZMqJ4qOO9m+4xC6zbkcAXCN7OMnwybXkve8X/tq01aByxlFqqKjPb5Qo2NwvwKseP+0b8uBazvq7eXiuwqwDTs20xczxul0TTTNwrNx6th13CZ+dV2mkw76pUnVBml7DB138punElqAD7XyOV/6p9MffJ5FGM6Bvtq0VeCqVovh3YFePrv54Xb4mq8ongl4H+CdkeRlq0Tb3iGqdPR139Rg0/Csr/ovpZwm/iwln3HScElUPlriwxlcWvP0QQMojhU5abQCvtVWW+XD554Xf/3jlDWPcftq086Aa7FGA2hWHoEa8Zvxfpjv676YsRjNbTxvqkMbz9qgbVJ5NNW/a1poBVRCkr4/nm19yo1KyKWPQ+dAi4dbnmL5k0OnI2rD+mnXtM9C/n21ae/AtRTm98WMpdAWaZbOgUm0q6/z+BYAuyug4habsz0f/S3P9t133/wxE98C5VmWecMZ3AjDOdBXmwZwDW+LiNERB/rq5FXymSx8+9DCELfWPMSSwti20OMZe5Y9ieUjJWxgjPURhnOgrzYN4BreFhGjIw701ckL+TZG+/oUGxaV0OkNX/sGSsCJLYuTRUBmgzTfcgCOhMZOG2E4B/pq0wCu4W0RMTriQF+dvJDPtsrI7ryssh0341LJghEws4pIdeSj3flZXw8HXLZKDDuWVsqY92tfbRrANe89bYL176uTlyo6pQGYbMVht7J/EJg5M8tnnL2GvhRuH5fP3tskzSGAY2vDfMaVMub92lebBnDNe0+bYP376uSlijy/UgX513dulptqz3yajaNLK4jlk28+38Z474wtLyexoli4OPjaV5sGcA1uh3jbIQf66uSlClYPt95666z+2f7gd3WVkZ0LmHGC6XuE7GDO1gKzUR0ClLLm9dpXmwZwzWsPm4J699XJS1UZ3fmFU65ztVRCDi4dU2PL8lV1YMZ7iV31nvl+5rCvHpX849rspKALvgRwdcHVyHMkDvQNXD5yYl8WW5bzirY8nHLKKfnr5Wix4dRqovOKvpVAfWSYt9s+wmgc6KtNA7hGa4+I1QEH+urkhXTf+fR1Jtsf2LZsjyjbIbgPv/TSS7NK6DSHVUUqokPYo36NqpQzz9e+2jSAa5572YTr3lcnn3A156r4vto0gGuuutV0VbavTj5dtV7Z1PTVpgFcK7sfTXXt+urkU82EFUZcX20awLXCOs4sVaevTj5LPJl1Wvtq0wCuWe8pM0x/X518hlk0c6T31aYBXDPXNVYOwX118pXDsemvSV9tGsA1/X1hxVLYVydfsQycwor11aYBXFPY+PNCUl+dfF74OQ317KtNA7imobXnlIa+Ovmcsnci1e6rTQO4JtK8USgO9NXJg9v9caCvNg3g6q9No6QaB/rq5LVi42eHHOirTQO4OmzEyHowB/rq5IOpiLdtcqCvNg3garPVIq+xONBXJx+LqIi8LA701aYBXMtqpki8HA701cmXQ2OkHY8DfbVpANd47RKxW+RAUyePZ2s0LlrMMl9a7DILWQVwLbAibvrmwCwPxqB9dIDtol8FcHXB1chzJA7E4B998M8yr0bqDGNGCuAak2ERvT0OzPJgDNpHB932esz/cgrg+h8v4q5nDsTgH33wzzKvuuhWAVxdcDXyDA4EBzrlQABXp+yNzIMDwYEuOBDA1QVXI8/gQHCgUw4EcHXK3sg8OBAc6IIDAVxdcDXyDA4EBzrlQABXp+yNzIMDwYEuOBDA1QVXI8/gQHCgUw4EcHXK3pWZeXVP0cqs4ei1wosI/XNgJrheHSjlvn9WRYmFA6UN5n3QBh9Kj+j/GsDVP89nvsQYsP9twiof5h3E++7UAVx9c3wFlFcdsCugOsuqQoLCjMoAABqcSURBVPBiWexbcuIAriWzbn4TxmD9X9tXeeE+Qj8cmAlO1ztHdJB+OsdipVTbY7E48/Q8+NF/awdw9c/zmS8xBuqqTVjlh/sI3XNgJrhc7xjRObrvGINKaGqPeLaqi5pB/It3y+dAANfyeTh3OQRIrQpSTfyYu07Rc4UDuHpm+EoormmgxrNVwWwltPM01yGAa5pbZ0ppq4LUlJLYG1lVXriP0A8HZoLT9c4RHaSfzrFYKdX2WCzOvDwPXkympQO4JsP3mS41But/my/4MLluHMA1Od7PbMkxYNNqH22d2cacUcIDuGa04SZJdgDXqsA1ybaY17IDuOa15ZdR7wCu/zKv8GEZrIykS+RAANcSGTfPycqAdY0QHJgEB2ai51UHSrmfBLOizP9yoLRBAFf0iElxIIBrUpyf4XIDuGa48VYI6QFcK6QhoxrBgXniQADXPLV21DU4sEI4EMC1QhoyqhEcmCcOBHDNU2tHXYMDK4QDAVwrpCGjGsGBeeJAANc8tXbUdWQO/Oc//0mXXnpp+trXvpZ+97vfrZLO729+85vpZz/7WfrXv/61yru2fvzzn/9M3/rWt9Ill1yS/va3v7WV7YrJJ4BrxTTlyqjIT37yk3TGGWek97///elzn/tc+stf/rJQsd///vfp05/+dH4nzq9+9asEYLoIwOLYY49N22+/ffr4xz++ShFvfetb0z3ucY904IEHJjR1Eb7//e+nXXfdNT33uc/NANlFGdOY5x/+8If0jW98I339618fCNgBXNPYenNM0xe/+MW07bbbpg033DDtsMMO6fzzz0///ve/09///vd0wgknpNve9rZp4403Tk996lPT9773vfyuC3YZQHvvvXe6xS1ukT7xiU+sUsSLXvSiTN+Tn/zk9Jvf/GaVd239OO2009Kmm26anvKUp6Tf/va3bWU79fl85CMfSfe73/3SS17ykjwxLUZwANdinInnE+HAn//857T//vun9ddfP1396ldPhx56aLrsssvS6aefnm5/+9vn5494xCPShRde2KqaRnIDjgCLKnjxxRenu971rume97xn+upXv5oBEm0krM9+9rPpzW9+c/ryl7+c01QZRXUs8cT905/+lKh9gjJIkMrwrMTz+x//+Ec1m3TIIYek61//+uk1r3lNo+RRp1dZf/zjH3P+gL4E5aDBe3/KrL6Xz1//+tfM45KHNJ6TOqUtfKneo7mqJkujfLzTXvKUh6Bu4svPn/fKqsaR9he/+EWWMNdee+0szf7oRz/K8eq8kWcAV2nhuE4NB4ASVUwHvs997pPe9KY35d8krUc/+tHpggsuWGXQtEH4j3/84/S2t70tPfGJT0wPeMAD8qxP6gOS1FdlUg332GOPtNdeeyUSERCoBgP7nHPOyfEe+tCHpgc/+MFpv/32S+eee24esAavuuyzzz6JZFHyU2Y9v8c85jHpZje7WXrPe96zAHzVsur0outpT3taOu6447IUCDR+/etf53Je+MIXpoc85CEJTQcddFCihgoAga3u9a9/feYreuWBNuDywQ9+ML3sZS9LVGPS5Qte8IIs9aKXJCgt8CJ1fuADH0jPfvaz04Me9KDMs9e97nUJ8ADJz3/+8znft7zlLVn9Vjdl4QV1H4A95znPSfe9733TDW94w7Tmmmum29zmNllVfvjDH56+8IUvVKue7wO4VmNJPJg0B8ze7EvXvva10wYbbJAlj6te9arpUY96VJZymmbg5dD885//PD3/+c9Pt7zlLdOd73znPGDcr7vuusmgB0gkH4B2t7vdLW200UZZjf3hD3+4UKwB+qlPfSrbxG5961vnQUjl2WmnndIBBxyQDf0//elPM0CQpKjDO+64Y75e61rXysD83e9+N0sppA90bL311jnPqmSjwCZ6b3WrW6WrXe1qGRSplkDyqKOOSne6053SNttsk3bZZZdM073vfe8Mrui18PDYxz423eEOd8h03ute90qbbbZZljSp6C996UvTjW9840wLfqBb+pve9KYJze94xzuSOh122GE5D9Kpcm5yk5tkACKV4h3gu971rpclZnF23nnnrO7f5S53yfX75S9/mZ75zGcumAhI2myL97///TN9aKmHAK46R+L3VHDgBz/4Qe7IV7jCFbLTPgPQzNs2aAFJ6iiQNCippFYTAdnmm2+eBz9ViZ3rS1/6UjrllFPywAVObGwloIsEcY1rXCMDBFsd1Yc6SQoDJNTPBz7wgemKV7xiVkE/+tGP5oF7xzveMYPh2WefnaWr8847LwPGdtttlwqYlXIG0Xud61wnvepVr8rSnTLR6I+kA2BIaRY1AC5p8cUvfnEGmJe//OW5HPRQj00W0j/jGc/IdjZSI4kIqJEWSVuA6P/+7//SiSeemIGKPdIiBnqBIRAF+lRHNJFepaECX3TRRQlI3vzmN8+SZlFFSXo3utGNcjtQz4vaqc71EMBV50j8njgHdOT3vve9edBd/vKXz8BFdfz2t7+9YDdpi0iDGWCxqb397W9fsBFRq0gWJ5100iqqGtWN5EH6I/mUQIIBelScLbfcMlFx3vCGN+SBXAaewUjSAojUMPYeA90zUlwBrne/+925DCoVVaoaFqP3kY98ZAYQaYEooNlkk00yeLAn1QPQZTNULjUSSFHzbnCDG2TJkmrsOakQ3VRFEhIan/SkJ6XrXve66UMf+lBOd6UrXSkBX3Ge8IQnJNIflQ+vAKSFlPXWWy+/oz6y8wFloCo/EqU/iy+An8o5bNEjgKveovF7ohwgmZjFb3e72+VObJY2MMzYJBrv64E9hr2FLaquVtXj1n+TiAzga17zmnkFU3qD1moiFYuUB5QE76iMBuErX/nKbDiu5kdCOPnkk7M6aPBuscUW2WZGwmBz+tjHPrYAaiSgAnYAkj1LHcSzogZ0SCr1+jbRS+UDAlZc2dPkS6IBkO9617sapVTxSFDqTQ2kltp+Qbqy+EA6VP+nP/3p2SZm4iAt4g1bFIA+66yzst0MP6iHaBDvcY97XFYPSZyAV3zthzfA+jvf+U7m793vfveFOgMz9jRqIgmxgH2Vv9X7AK4qN+J+ohwwOwMtA3CdddbJhnBGXiCy1lprZTsMNaoASSGWrYXthPGYFFRWs8r7QVeGY+UZwEDBps/HP/7x6SpXuUrO0wbQkh/bEeM1VQ8gAB9ql8Ho3mA3UKm5JDV0A6RPfvKTeSBSrUg4jPLAVt7PetazslrFxiMtacmCgIFuAJOWADK6lNNEL9WNDZDkVlRL0hHV8Zhjjsl2JmnRpQ7qQ/UlOQIjAMSOJC01GWgAtq222ioDNfAGSvaUUSGp7RYo7LNjZJcPmyRV2sIKqUpbKsd+LPY6kpz9WZ69733vy6BJKgVuAn5QMdnOSNv1Nq63YQBXnSPxeyIcMFjYX9hY2LWsJho8VsaoMYDMbEwK0cmrgZpkJcoAKfu+qu8H3RtYBjlDvNUy6hFJxYrmbrvttjCw5GGQATX02eMFbA4++OD8HJCRNNiNGKupO9Qpxnw0WTmzokclVQbJzUAl9airQY8H4lFTC3CzP8lXWUC5iV4AKT7Jpqiv1DO2KvyUB7CUhwUEkmOR0oATQGLnO/zwwzPgAlAGdRKXiYQKTaI6/vjj82+S5Gtf+9psq8IzIGtV89WvfnXOQz4ATH2oz9IyyAM0AR9IlOgqbelKzUSz+rOF4SnDfZk4qu0YwFXlRtxPjAMkAR2W5MNeQiJg6xLM+FQZndoqncFbgpnZhlDqCqlrXDuYFTzgwy5ltqdiMSpT9UhD6CqB1GLLBOmDLYaKSdKgzn3mM5/Jdi2ShYEM/KwqGvjKIDmxi3mnHozXVER2LKpZddGBZEYVE8cmVPago48+OufRRC8gEB9YFdsQYPIbaChTWdQ+Ug+eUc2OPPLIDGx4jiZ/VgWBjpVQYKNer3jFK7I6qU3QQcIyyQBZBnnt5lmpm3xIwcoAdniBpyYhYEZCxCeqozwE9T/11FNzXfFWHtqCatokfQVwlV4Z14lyQAc2O1MjqEM6fQkAw6Dx7swzz8wqFamBqsW4S3IBPOxO7EzjBlIK+9OHP/zhLB2RrORr8FcBRb6kEaof4zpVCVCQCNBInUOf40qubFa2AwjONQJkUuEb3/jGHEcZ9lTVywByjjbZG4Un1GP1KgN4FHrFJeHgG3pclVUmAzQDZauf9pDhrT/lkn4ABokXLfhgxRHwsE+pewF09TZZADLllHyo0NqI+im+OOrpmYkIr/G51Ak9yvJOfPlQSz0LiWvcHh3xp5YDBhd1jIHXzMywC8jKQJg2wtnPqFhsQ8WuM200zhI9IXHNUmsFrQscYPxlh2FrIU2QSJpm5oUEE76xNYA9C8AW9WjCJM108QFcM918QfyscMBeKEBL7aMuRVgeBwK4lse/SB0cCA5MgAMBXBNgehQZHAgOLI8DAVzL41+kDg4EBybAgQCuCTA9igwOBAeWx4EAruXxL1J3yAFGbHuH7AGyr8ifPUzTvHq4GDvsZ7LPy2bVWaR/sXpN6nkA16Q4H+UO5ADQshJn+4AjMXbO28Dp/F7ZRDkwg55f2mhqVzqQtSmzGmzdcC7PUZ+vfOUrU7vXrErzKPfayERiw7Brn3voArhGaaGI0zsH7FB3HpAjOw78HG52bMTO7mncTmAX/O67755375fzd4VpdtA7bG2zLGBbKRIXadi5TKcB7HJ3nKevEMDVF6ejnLE4AKAc4yGlGPhVsLKBEziQvNw7FuI3SacKCo6YlHOC4ohbpAJHikhJ0kjrd7kvng2GESwvedj86nA1Z4QkRAeDlYc+9DjC4ryeg8iOwnhHZawPdHWUn/f+0FToHUaL99LLVz2rdZdnNR80FR6iHY/qtPhdpQVPShvIG88cz+GplBcKh7flJU2JNwrNS40TwLVUzkW61jlgMHFwx5bFJ5XDv6QuZwKpjQDBAHQ4lycBrmN4IuAGxp8D0OXsIGlAPAeluV6hqh1xxBH5rJ2BxV0OCc65QX7seWvgr92RHIeWuXcZFriyEZdrGI7zeJhwONvhauU50wi8eLTgDQGN/F05lIx+B5SLWmnA+40m79Hs7KUD5aMCAb9fPD1Qp7mGcaga8MvTO/kAJOcN8cIZzyLNcgoI9AQA5Dc3QQ972MNyHg5d83IBtICUtHxvVQ9Ec7XsQLZzmV2HAK6uORz5j8wBapQBwZ5FeuE+hseG4gvesRlSCF/o/FrxmlB8mPtNFeNpgbQCmPhS51YGkPC55awgVyoOCHM1LG/2MxIDLwri8lqgbIN0WHBomWcKHlR5p+DNAT0GMJBi+wFIe+65Z3aGyP0MCQVd4qorlRiY8FzqHRo49BOHxwWAoT6jBOXhHVc28lFHXiGUxasDKUm90IMfvJs658lZIx9b3gE3O/y998dVDnr84ak8HMpWPyDNNxkXzN6rtyNY6tR1CODqmsOR/8gc4OhOx+fjCRCRUkgu/HHxAc9nlRmfFAbUqJK8ojpcbcCyh/E6AODckwj4MSc98VzAP5aBSKLjkobLGD6kgA1HfKQh6hwgczRnWDDISSk8IwBFYCEdYAQ2aCWVARAuqIEkbw/oA0qAg1HbaiOfYGgiKXFI6EMXJE7gNuqhbGc2qaR4g4cOdpOa+BbDP9KsOsqXREua48WieJsl8QFR/s14neVyh2cI5QNFLm5Ixf48kwf/YuxceExSo1JW1dJhPFzq+wCupXIu0nXGAaqMWZxHz7ox24xvZjcYGewBA5sNiYWqSKWkahlQ1CH2G4EXUWAGpLiL4VOLj/XyZR7AwbUNaQSgAI9RAy+jpDdqZl3aIMVYDaVSASyDvti8gLIBT03lJNGHIjgNBDqkL2CoDsBgWACiHO8BfL65uKvxDNjzu8VmCHgY0nl3tZDAXxeVlMSlzsV7KvUbyJMQ0cKRIPWvCkiAmX8xaU0WfYcArr45HuUN5QD7CpWN9FOXNgAZlZDUQHoh1VQD0PMeEAAiEoRA8iLlUHE4/7PKxx4jDwOdRGJljJRGwqsDULWM6j1w4BiPOkbyKEBZ4nCORwoidZXvGbJ5AToSCwBgY6NyqTP1C4gCNYAjTXXBoeRbvwJE+ao3b6fFXlWNR7oCSCRZnk/LZ8vYxfjeKvY2UiB7nwmAqglQ2QrZGEso/sWKlFme93UN4OqL01HOyBxg8AZMVurq9h3qDEmAWlU+QlHNmMTFXgNI2GLYxKiS1B9uZYCBgQ1MSGnl+408dgJMti5qWhnE1byb7qmFJEASHtuQ8koAalwiU0PVRVz5kurQx9Op+AzgpCD2LJIRFQ5gkS6rUk7Jt+kKqHx9Rx1JlE1gB6SBFoO9e9IgKQsgAXiTgFVPf2XjLzCkUuOXSaEEaS1I8EhrMuk7BHD1zfEobyAHmgZ2NQGgoQ4t5pCP6kVSAwSM8kCQlGXAstnYJEodY4C36kfq8Y4aRcqgTlLlRg2AlcrJJmSFjs0MCFrdBDycHVJrgaS68UpKDVQHCwnAjYEfkFHXgBdVzdelSYAkqVECCdFiBUBnj2oKyiPRAX6fLyt+5gu9bFTKxlt0qAvekeJIomyQJbB94RV1lsQ2Lr0ln6VeA7iWyrlI1wkHyncDN95446y+GNglGPjUO9IYyalJHRLXZlBgQi0CEAarD0UwypMuSBzsZ3axG8DUOFIO6cLqGKP2OIFtiZRXtgZQ9Ugn7G9sRKQge55IQYz3QED5RXUU1zcJqa9Agr919ae+ApNRAqnHAgUVk4TZFOTlW49WHeWvHH+FXvy1xQSAAnNgSgI1EfgSUBVE8R59Fkj4mh+X3ib6xnkWwDUOtyJupxygqlBhSATsL1TBaqDOABiqUPFpXn1f7sWzaZWfdNIT9YvdBghSzUhXpA+qG/CyT4x0RBojrbgfJ7BrSacsvtKt7hnYjOqM5OgoKi/JyHvlV9VK0gzAVTd5uDb5vF+MLhIeGxbQrQJMPb46o4laXPzDF3rFRTd1m5qNBu8sVNRtiVRYkww7ohXbcemt0zXu7wCucTkW8TvhgEH+zne+M692mb3ttxpV2uiEoMh0qjkQwDXVzTM/xLH9UOusYjEyU31GNUzPD5eipoUDAVyFE3GdKAeoZ1bzqFv1PUMTJSwKn0oOBHBNZbMEUcGB4MAgDgRwDeJOvAsOBAemkgMBXFPZLEFUnxygmp544ol5d/1iWyyG0WMl04qe4zFhnxvGreW/D+BaPg8jhxnnANCyM7zsAq/vOre66ciQs4Y2uNbfqz7A40bG/ie2uupWhxlnz1SSH8A1lc0SRPXJAXuRdt555/S85z0v702qA5NjRjaM2txp71JTsJ3jkEMOyfnY0zSN7qWb6J7VZwFcs9pyK5RuZ+esLJJsuHuxedOmVBs0qWMllI2UNkraTGlHOqmngE7ZIGnzqfxITDalFknILvGySZXDQR4O7GQvGy1tVrUhVd4OUdvRzi2N84U2blIH5WFDqc2kwMqBavc2mxY6RqXX8SNpqa02xCq3bIyt51XynOdrANc8t/6U1R0wOR/nSA9PC47mcJvikK+jM8VTgsHtoDQXLVQzG1a5q+HWpux6d8SG2xbHfRzFcTaRtwNABpTsnve75O/8or1kBSSK6seLw5WvfOW05ppr5jOHDlM7JsMxn/jUQucD7UHjZQKwAbRqGEYv6Qz9jgI5jF3y40zQrvQqYFfznef7AK55bv0pqzvQcSiZixfn9viM4vjOYV7n5khOzv9xRQyInCt0iNqGVeDkkDGvBaQt3iCACbfKziA64+g8IOmKVOXQM5uU8ng5kJ5vrgISjs0oz2Fj5/G4Zeb/qxxMvvDCC/OZQDv80cjhH0Dj5LDqEsf9MHodXwKwvEgALecq+cnyW9pBR3imrAl7IyeAqzdWR0HDOOAAtIFfPC2QmrhX2W233fIg5hmC6xiHlkkoVCvSjXOIHAPadU+1JFGxWVHvSF3iUTUdPubfi1QFADkXpGI6ZOxAtvv6bn3n+pybVKYzfEUiUxdqp3wZ7x20Jhk6tF1WJtEBIIfR67wk2kmOJEn1Of744zM4k8ACuFbvOQFcq/MknkyIA1wLcw3DdTIbDxWKrQsIkWa4nSElATZeQ4tayKbEP7rD2QztAOOEE07I7mN4N+CBdJ999skeGooNq1Sx+Pequ20p7wESUOMiZzHDvLg+bMERIL/sxTCPvn333XcovTwycHLIhuYQOfBsyq/QFNeUAriiF0wNB4p0w81McZ3MJxVvnaQWxm8re3yqU+MKCLn33sBnNCcVkYZ4bKAmWhGkCpLmSHDVUPx7UQOBZDVQGw8++OCsJvrs2KBD39RaUtMpp5yyoG4COk4Dh9FLymKr23///RfKaMqvStu83wdwzXsPmJL6AxsrhKQbhnKri1Q391Q+7pSpamxJbGBsS4z1wIkHUkZ0Bn1g4eMVjO9UQQZ0XwWSxy677LKKK2hqJrDg6E9+NpACygJgVD4Sk/fsWNRCUlSxgxXWAbQi8TGmWwCgngLfYfQCUr7b2fA49KMWesa3lo9YUJfr6mspd56vAVzz3PpTVHfSk49OkIz4OKceUt98NAN42Zpgr5RvBjLcM5hzeMcg7zfbEhuWFTz3Phnmiz7AisGbGgnYiv1J1QGQj1GwLbGR2YBKpSx+wNBk9ZDtqrgpJrXxk1UN6FIWqYl0hy7pAOAwehnmSYposCUCTcDYgoQ8AW+E1TkQwLU6T+LJBDjg+4NW+EhcwIhBngthNiPqX5FyGPAZ6L2z8mZFETgUx4LAhkM+7pCpW+JYpbM7nkG+Lr0AxBKX/YxtrQpu7G7sTbZmkOyagAu77OOyZYMqS3orTgCH0QtsbXz1gVh1IHkCLnkBvyotE2iWqS0ygGtqm2a+COPBkwHc3iUGc+oXtYzqVF3Jc0/F845R3sBmDK/GAXKA0Ht/PJQCtGqcwl2G/BK3KR6gI1HJp9BUQLTk4Sp/tIgnfgHIYfQqXzr1KWnk5Tc7XRPN1XLn9T6Aa15bfsrqbZuCvUz2XRXD/JSRGORMEQcCuKaoMeaZFPYgNh0bSkktEYIDgzgQwDWIO/GuNw5Qj+xGtxJYVKbeCo+CZo4DAVwz12RBcHAgOBDAFX0gOBAcmDkO/D+j11sNp3uasQAAAABJRU5ErkJggg==)"
      ],
      "metadata": {
        "id": "ULcnuyOwnl-q"
      }
    },
    {
      "cell_type": "markdown",
      "source": [
        " Newton's 2nd law\n",
        "\n",
        " $$F = m a$$\n",
        "\n",
        " * $v$ = velocity $=\\frac{d x}{d t}$\n",
        "   where $x$ is position\n",
        " * $a$ = acceleration $=\\frac{d v}{d t}$ $=\\frac{d^2 x}{d t^2}$"
      ],
      "metadata": {
        "id": "C-8sGkywnrq3"
      }
    },
    {
      "cell_type": "markdown",
      "source": [
        "$$F_{spring} = - K \\cdot x$$\n",
        "\n",
        "* $x$ is position: positive in the direction of stretching the spring.\n",
        "* Negative sign: spring pulls it back.\n"
      ],
      "metadata": {
        "id": "cBrzK2jjnvdI"
      }
    },
    {
      "cell_type": "markdown",
      "source": [
        "\\begin{align}\n",
        "a &= \\frac{F}{m}\n",
        "\\\\\n",
        "&= \\frac{-K \\cdot x}{m}\n",
        "\\\\\n",
        "\\ddot{x} &= \\frac{-K \\cdot x}{m}\n",
        "\\end{align}"
      ],
      "metadata": {
        "id": "1rtiLb7onwTU"
      }
    },
    {
      "cell_type": "markdown",
      "source": [
        "For $K = 1$ and $m = 1$,\n",
        "\n",
        "$$\\ddot{x} = -x$$"
      ],
      "metadata": {
        "id": "4MeD2-Qsnzg-"
      }
    },
    {
      "cell_type": "markdown",
      "source": [
        "Suppose we have the initial conditions\n",
        "* $x(0) = x_0$\n",
        "* $\\dot{x}(0) = v_0$"
      ],
      "metadata": {
        "id": "8wzocb-7n28x"
      }
    },
    {
      "cell_type": "markdown",
      "source": [
        "# Guess\n",
        "\n",
        "Q: What is a function when taking multiple derivatives is similar to itself?\n",
        "\n",
        "A: Exponential?"
      ],
      "metadata": {
        "id": "jsIqOsEjL73p"
      }
    },
    {
      "cell_type": "markdown",
      "source": [
        "Exponential\n",
        "* $x(t) = e^{\\lambda t}$\n",
        "* $\\dot{x}(t) = \\lambda e^{\\lambda t}$\n",
        "* $\\ddot{x}(t) = \\lambda^2 e^{\\lambda t}$"
      ],
      "metadata": {
        "id": "bk5_Y_EW0-UN"
      }
    },
    {
      "cell_type": "markdown",
      "source": [
        "If so, then\n",
        "* $\\dot{x}(t) = - x$\n",
        "* $\\lambda^2 e^{\\lambda t} = - e^{\\lambda t}$\n",
        "* $\\lambda^2 = -1$\n",
        "* $\\lambda = \\pm i$"
      ],
      "metadata": {
        "id": "wgWOym8K1Prs"
      }
    },
    {
      "cell_type": "markdown",
      "source": [
        "Since $\\ddot{x} = -x$ is linear,\n",
        "so if $g(x)$ and $h(x)$ are solutions to $\\ddot{x} = -x$,\n",
        "then $g(x) = h(x)$ are also a solution."
      ],
      "metadata": {
        "id": "CWkx-_0t2OCk"
      }
    },
    {
      "cell_type": "markdown",
      "source": [
        "Thus,\n",
        "\\begin{align}\n",
        "x(t) & = C_1 e^{i t} + C_2 e^{-i t}\n",
        "\\\\\n",
        "& = (C_1 + C_2) \\cos(t) + i (C_1 - C_2) \\sin(t)\n",
        "\\end{align}"
      ],
      "metadata": {
        "id": "K6bcW9Li3eO4"
      }
    },
    {
      "cell_type": "markdown",
      "source": [
        "and\n",
        "\\begin{align}\n",
        "\\dot{x}(t) &= C_1 i e^{i t} - C_2 i e^{-i t}\n",
        "\\\\\n",
        "&= i (C_1 - C_2) \\cos(t) - (C_1 + C_2) \\sin(t)\n",
        "\\end{align}"
      ],
      "metadata": {
        "id": "beCrI-Sw8oTT"
      }
    },
    {
      "cell_type": "markdown",
      "source": [
        "With initial conditions\n",
        "* $x(0) = x_0 = C_1 + C_2$\n",
        "* $\\dot{x}(0) = v_0 = i \\left(C_1 - C_2 \\right)$"
      ],
      "metadata": {
        "id": "xMHgqgIk4Sms"
      }
    },
    {
      "cell_type": "markdown",
      "source": [
        "\\begin{align}\n",
        "\\begin{bmatrix}\n",
        "1 & 1 \\\\\n",
        "i & -i\n",
        "\\end{bmatrix}\n",
        "\\cdot\n",
        "\\begin{bmatrix}\n",
        "C_1 \\\\\n",
        "C_2\n",
        "\\end{bmatrix}\n",
        "=\n",
        "\\begin{bmatrix}\n",
        "x_0 \\\\\n",
        "v_0\n",
        "\\end{bmatrix}\n",
        "\\end{align}"
      ],
      "metadata": {
        "id": "RmeM6gnh5aYq"
      }
    },
    {
      "cell_type": "markdown",
      "source": [
        "* Solved by hand ($i$ times the lower equation and add together)\n",
        "  * $C_2 = \\frac{x_0 + i v_0}{2}$\n",
        "  * $C_1 = \\frac{x_0 - i v_0}{2}$"
      ],
      "metadata": {
        "id": "Gb9u8s8h_iwG"
      }
    },
    {
      "cell_type": "markdown",
      "source": [
        "Hence, the solution\n",
        "$x(t) = \\frac{x_0 - i v_0}{2} e^{i t} + \\frac{x_0 + i v_0}{2} e^{-i t}$"
      ],
      "metadata": {
        "id": "yTqrJLDWAfI6"
      }
    },
    {
      "cell_type": "markdown",
      "source": [
        "From Euler relation,\n",
        "$e^{i\\theta} = \\cos(\\theta) + i \\sin(\\theta)$,\n",
        "\n",
        "\\begin{align}\n",
        "x(t) &= \\frac{x_0 - i v_0}{2} (\\cos(t) + i \\sin(t)) + \\frac{x_0 + i v_0}{2} (\\cos(t) - i \\sin(t))\n",
        "\\\\\n",
        "&= \\cos(t) x_0 + \\sin(t) v_0\n",
        "\\end{align}"
      ],
      "metadata": {
        "id": "WW_fXypPA8JL"
      }
    },
    {
      "cell_type": "code",
      "source": [
        "A = np.array([[1, 1],\n",
        "              [1j, -1j]])\n",
        "b = np.array([[0.02],\n",
        "              [0.03]])\n",
        "\n",
        "C = np.linalg.solve(A, b)\n",
        "C"
      ],
      "metadata": {
        "id": "qRI2Fp2zL_-y",
        "colab": {
          "base_uri": "https://localhost:8080/"
        },
        "outputId": "2edab874-8dd3-4350-a5d0-526dd28e3ee4"
      },
      "execution_count": null,
      "outputs": [
        {
          "output_type": "execute_result",
          "data": {
            "text/plain": [
              "array([[0.01-0.015j],\n",
              "       [0.01+0.015j]])"
            ]
          },
          "metadata": {},
          "execution_count": 6
        }
      ]
    },
    {
      "cell_type": "markdown",
      "source": [
        "## With $k$ and $m$"
      ],
      "metadata": {
        "id": "nUFeHkbpRB-v"
      }
    },
    {
      "cell_type": "markdown",
      "source": [
        "$\\ddot{x} = - \\frac{k}{m} x$"
      ],
      "metadata": {
        "id": "v0L4YD_TO20r"
      }
    },
    {
      "cell_type": "markdown",
      "source": [
        "Guess\n",
        "* $x = e^{\\lambda t}$\n",
        "* $\\dot{x} = \\lambda e^{\\lambda t}$\n",
        "* $\\ddot{x} = \\lambda^2 e^{\\lambda t}$\n"
      ],
      "metadata": {
        "id": "tPjl-4CbO30U"
      }
    },
    {
      "cell_type": "markdown",
      "source": [
        "* $\\lambda^2 = -\\frac{k}{m}$\n",
        "* $\\lambda = \\pm i \\sqrt{\\frac{k}{m}}$"
      ],
      "metadata": {
        "id": "sh0z6ahKPOyX"
      }
    },
    {
      "cell_type": "markdown",
      "source": [
        "\\begin{align}\n",
        "x(t) & = C_1 e^{i \\sqrt{\\frac{k}{m}} t} + C_2 e^{-i \\sqrt{\\frac{k}{m}} t}\n",
        "\\\\\n",
        "& = (C_1 + C_2) \\cos( \\sqrt{\\frac{k}{m}} t) + i (C_1 - C_2) \\sin( \\sqrt{\\frac{k}{m}} t)\n",
        "\\end{align}"
      ],
      "metadata": {
        "id": "OMR0-U0SPsh6"
      }
    },
    {
      "cell_type": "markdown",
      "source": [
        "\\begin{align}\n",
        "\\dot{x}(t) & = -(C_1 + C_2) \\sqrt{\\frac{k}{m}} \\sin( \\sqrt{\\frac{k}{m}} t) + i (C_1 - C_2) \\sqrt{\\frac{k}{m}} \\cos( \\sqrt{\\frac{k}{m}} t)\n",
        "\\end{align}"
      ],
      "metadata": {
        "id": "0YEJqbPFQKAA"
      }
    },
    {
      "cell_type": "markdown",
      "source": [
        "With initial conditions\n",
        "* $x(0) = x_0 = C_1 + C_2$\n",
        "* $\\dot{x}(0) = v_0 = i \\left(C_1 - C_2 \\right) \\sqrt{\\frac{k}{m}}$"
      ],
      "metadata": {
        "id": "BWubSKXwQlyt"
      }
    },
    {
      "cell_type": "code",
      "source": [
        "def spring_mass_position3(t, k, m, x0, v0, echo=False):\n",
        "    '''\n",
        "    return x(t)\n",
        "    '''\n",
        "    w = np.sqrt(k/m)\n",
        "\n",
        "    A = np.array([[1, 1],\n",
        "              [w*1j, w*-1j]])\n",
        "    b = np.array([[x0],[v0]])\n",
        "    C = np.linalg.solve(A, b)  # 2 x 1\n",
        "\n",
        "    bases = np.array([[np.exp(1j * w * t)], [np.exp(-1j * w * t)]]) # 2 x 1\n",
        "    x = np.dot(C.T, bases)\n",
        "\n",
        "    if echo:\n",
        "        print('C =', C)\n",
        "        print('w =', w)\n",
        "\n",
        "    return x.reshape((-1,))"
      ],
      "metadata": {
        "id": "NQLwZJrE6hH3"
      },
      "execution_count": 1,
      "outputs": []
    },
    {
      "cell_type": "code",
      "source": [
        "k = 1    # N/m\n",
        "m = 1  # kg\n",
        "x0 = 0.02 # m = x1000 mm = x100 cm\n",
        "\n",
        "ts = np.linspace(0, 12, 500)\n",
        "\n",
        "xs = [spring_mass_position3(t, k, m, x0, v0=0.04) for t in ts]\n",
        "plt.plot(ts, xs, 'g--')\n",
        "\n",
        "xs = [spring_mass_position3(t, 0.2, 0.05, x0, v0=0.04) for t in ts]\n",
        "plt.plot(ts, xs, 'r--')\n"
      ],
      "metadata": {
        "colab": {
          "base_uri": "https://localhost:8080/",
          "height": 502
        },
        "id": "kjOl7hM67jd6",
        "outputId": "f28068bf-6295-4b6e-dd15-0d5fa2a870a0"
      },
      "execution_count": 3,
      "outputs": [
        {
          "output_type": "stream",
          "name": "stderr",
          "text": [
            "/usr/local/lib/python3.10/dist-packages/matplotlib/cbook/__init__.py:1335: ComplexWarning: Casting complex values to real discards the imaginary part\n",
            "  return np.asarray(x, float)\n"
          ]
        },
        {
          "output_type": "execute_result",
          "data": {
            "text/plain": [
              "[<matplotlib.lines.Line2D at 0x7998c4702110>]"
            ]
          },
          "metadata": {},
          "execution_count": 3
        },
        {
          "output_type": "display_data",
          "data": {
            "text/plain": [
              "<Figure size 640x480 with 1 Axes>"
            ],
            "image/png": "[encoded data removed]"
          },
          "metadata": {}
        }
      ]
    },
    {
      "cell_type": "markdown",
      "source": [
        "# Linear ODE\n",
        "\n",
        "_Src: Erwin Kreyszig, Advanced Engineering Mathematics for more._\n",
        "\n",
        "\n",
        "> $y'' + p(x) y' + q(x) y = 0$ ... (Eq. 2)\n",
        ">\n",
        "> where $y' = \\frac{d y}{d x}$\n",
        "and $y'' = \\frac{d^2 y}{d x^2}$"
      ],
      "metadata": {
        "id": "eTyXJxa4OJ7c"
      }
    },
    {
      "cell_type": "markdown",
      "source": [
        "## Method of Reduction of Order"
      ],
      "metadata": {
        "id": "1jV6IEe3ONfY"
      }
    },
    {
      "cell_type": "markdown",
      "source": [
        "Suppose $y_1$ is a solution, another basis solution $y_2$ can be found by Reduction of Order."
      ],
      "metadata": {
        "id": "1_pEue80PXiW"
      }
    },
    {
      "cell_type": "markdown",
      "source": [
        "Let $y_2 = u y_1$\n",
        "\n",
        "Hence,\n",
        "* $y_2' = u' y_1 + u y_1'$\n",
        "* $y_2'' = u'' y_1 + 2 u' y_1' + u y_1''$"
      ],
      "metadata": {
        "id": "Bll0U4P5PghF"
      }
    },
    {
      "cell_type": "markdown",
      "source": [
        "Substitute into (Eq. 2) gives\n",
        "\n",
        "$(u'' y_1 + 2 u' y_1' + u y_1'') + p \\cdot (u' y_1 + u y_1') + q \\cdot u y_1 = 0$"
      ],
      "metadata": {
        "id": "sqNUzn5FP6-Y"
      }
    },
    {
      "cell_type": "markdown",
      "source": [
        "Collect terms into $u''$, $u'$, and $u$.\n",
        "\n",
        "$u'' y_1 + u' \\left( 2 y_1' + p y_1\\right) + u \\left( y_1'' + p y_1' + q y_1 \\right) = 0$"
      ],
      "metadata": {
        "id": "5vUiWFs1QT7U"
      }
    },
    {
      "cell_type": "markdown",
      "source": [
        "Since $y_1$ is a solution, then $y_1'' + p y_1' + q y_1 = 0$\n",
        "\n",
        "Therefore,\n",
        "\n",
        "\\begin{align}\n",
        "u'' y_1 + u' \\left( 2 y_1' + p y_1\\right) &= 0\n",
        "\\\\\n",
        "u'' + u' \\left( \\frac{2 y_1' + p y_1}{y_1} \\right) = 0\n",
        "\\end{align}"
      ],
      "metadata": {
        "id": "5dOIZLm-Qng0"
      }
    },
    {
      "cell_type": "markdown",
      "source": [
        "Let $U \\equiv u'$\n",
        "\n",
        "Then,\n",
        "\n",
        "\\begin{align}\n",
        "U' + U \\left( \\frac{2 y_1' + p y_1}{y_1} \\right) &= 0\n",
        "\\\\\n",
        "\\frac{d U}{d x} &= - \\left( \\frac{2 y_1' + p y_1}{y_1} \\right) U\n",
        "\\\\\n",
        "\\frac{d U}{U} &= - \\left( \\frac{2 y_1' + p y_1}{y_1} \\right) d x\n",
        "\\end{align}"
      ],
      "metadata": {
        "id": "B9xfqqWURJpg"
      }
    },
    {
      "cell_type": "markdown",
      "source": [
        "Apply integration,\n",
        "\n",
        "\\begin{align}\n",
        "\\int \\frac{1}{U} d U &= - 2 \\int \\frac{y_1'}{y_1} dx  - \\int p d x\n",
        "\\end{align}"
      ],
      "metadata": {
        "id": "vClAwJhmR2Mp"
      }
    },
    {
      "cell_type": "markdown",
      "source": [
        "Recall\n",
        "* $\\int \\frac{1}{x} dx = \\ln |x|$\n",
        "* $\\int \\frac{y_1'}{y_1} d x = \\int \\frac{d y_1}{d x \\cdot y_1} d x= \\int \\frac{1}{y_1} dy_1$"
      ],
      "metadata": {
        "id": "catjO_umSanR"
      }
    },
    {
      "cell_type": "markdown",
      "source": [
        "Hence,\n",
        "\n",
        "$\\ln |U| = - 2 \\ln |y_1| - \\int p d x$"
      ],
      "metadata": {
        "id": "HzBkYd1cSzLk"
      }
    },
    {
      "cell_type": "markdown",
      "source": [
        "Take exponent,\n",
        "\n",
        "$U = \\frac{1}{y_1^2} \\cdot e^{-\\int p dx}$\n",
        "\n",
        "* $u = \\int U dx$\n",
        "* $y_2 = y_1 u = y_1 \\cdot \\int U dx$"
      ],
      "metadata": {
        "id": "Q1Y8tYbyTLZQ"
      }
    },
    {
      "cell_type": "markdown",
      "source": [
        "### Example\n",
        "\n",
        "$y'' + p y' + q y = 0$"
      ],
      "metadata": {
        "id": "qQW3QP0HTZeV"
      }
    },
    {
      "cell_type": "markdown",
      "source": [
        "Guess\n",
        "* $y = e^{\\lambda x}$; $y' = \\lambda e^{\\lambda x}$; $y'' = \\lambda^2 e^{\\lambda x}$\n",
        "  * $e^{\\lambda x}(\\lambda^2 + p \\lambda + q) = 0$\n",
        "  * $\\lambda^2 + p \\lambda + q = 0$\n",
        "  * $\\lambda = \\frac{- p \\pm \\sqrt{p^2 - 4 q}}{2}$"
      ],
      "metadata": {
        "id": "1Ekl0vj7UhUL"
      }
    },
    {
      "cell_type": "markdown",
      "source": [
        "If $p^2 > 4 q$, two real roots,\n",
        "* $y(x) = c_1 e^{\\frac{-p + \\sqrt{p^2 - 4 q}}{2} x} + c_2 e^{\\frac{-p - \\sqrt{p^2 - 4 q}}{2} x}$"
      ],
      "metadata": {
        "id": "wkDaZdMLWkQD"
      }
    },
    {
      "cell_type": "markdown",
      "source": [
        "If $p^2 < 4 q$, two complex roots,\n",
        "* $y(x) = c_1 e^{\\frac{-p + i \\sqrt{4 q - p^2}}{2} x} + c_2 e^{\\frac{-p - i \\sqrt{4 q - p^2}}{2} x}$"
      ],
      "metadata": {
        "id": "RtdKFhRaW93w"
      }
    },
    {
      "cell_type": "markdown",
      "source": [
        "If $p^2 = 4q$, double roots!\n",
        "* $y_1 = e^{-\\frac{p}{2} x}$\n",
        "\n",
        "  Here, we can use Method of Reduction of Order to find the second solution $y_2$.\n",
        "\n",
        "  * $y_2 = y_1 u = y_1 \\cdot \\int U dx$\n",
        "  * $U = \\frac{1}{y_1^2} \\cdot e^{\\int p dx}$\n"
      ],
      "metadata": {
        "id": "d-KJiCoLXJdL"
      }
    },
    {
      "cell_type": "markdown",
      "source": [
        "E.g., $y'' + 2 y' + y = 0$\n",
        "\n",
        "$p = 2$ and $q = 1$\n",
        "\n",
        "* $y_1 = e^{- x}$\n",
        "* $y_2 = y_1 u$\n",
        "  * $U = e^{2 x} e^{-2 x} = 1$\n",
        "  * $u = \\int 1 d x = x$\n",
        "  * $y_2 = y_1 x = x e^{-x}$\n",
        "\n",
        "\n",
        "Hence,\n",
        "\n",
        "$$y(x) = c_1 e^{-x} + c_2 x e^{-x}$$\n"
      ],
      "metadata": {
        "id": "XREzZPe0YBBW"
      }
    },
    {
      "cell_type": "markdown",
      "source": [
        "Work the initial conditions,\n",
        "\n",
        "* $y(0) = c_1$ $\\Rightarrow c_1 = y_0$\n",
        "* $y'(0) = -c_1 + c_2 (0 + 1) = v_0$ $\\Rightarrow c_2 = v_0 + y_0$"
      ],
      "metadata": {
        "id": "iwlMhdp4cd0C"
      }
    },
    {
      "cell_type": "code",
      "source": [
        "def resonance(t, x0, v0):\n",
        "    '''\n",
        "    x'' + 2 x' + x = 0\n",
        "    solution: x(t) = x0 * e^{-t} + (x0 + v0) t e^{-t}\n",
        "    '''\n",
        "\n",
        "    x = x0 * np.exp(-t) + (x0 + v0)*t*np.exp(-t)\n",
        "\n",
        "    return x"
      ],
      "metadata": {
        "id": "8fv3hmE-cVGp"
      },
      "execution_count": 4,
      "outputs": []
    },
    {
      "cell_type": "code",
      "source": [
        "ts = np.linspace(0, 8, 500)\n",
        "xs = [resonance(t, 1, 2) for t in ts]\n",
        "plt.plot(ts, xs)\n",
        "plt.xlabel('t');\n",
        "plt.ylabel('x');\n",
        "plt.title('Double root')"
      ],
      "metadata": {
        "colab": {
          "base_uri": "https://localhost:8080/",
          "height": 489
        },
        "id": "FDLcDsBKdlez",
        "outputId": "cb43b06b-363e-41c8-f317-ec65e3a3fdaf"
      },
      "execution_count": 5,
      "outputs": [
        {
          "output_type": "execute_result",
          "data": {
            "text/plain": [
              "Text(0.5, 1.0, 'Double root')"
            ]
          },
          "metadata": {},
          "execution_count": 5
        },
        {
          "output_type": "display_data",
          "data": {
            "text/plain": [
              "<Figure size 640x480 with 1 Axes>"
            ],
            "image/png": "[encoded data removed]"
          },
          "metadata": {}
        }
      ]
    },
    {
      "cell_type": "markdown",
      "source": [
        "# Non-homogeneous differential equation\n",
        "\n"
      ],
      "metadata": {
        "id": "WH8Oy9uEzY_f"
      }
    },
    {
      "cell_type": "markdown",
      "source": [
        "$$y'' + p y' + q = f(x)$$"
      ],
      "metadata": {
        "id": "HE9ZyroPbLb9"
      }
    },
    {
      "cell_type": "markdown",
      "source": [
        "## Method of undetermined coefficients\n"
      ],
      "metadata": {
        "id": "qPLyzoJ_Omvm"
      }
    },
    {
      "cell_type": "markdown",
      "source": [
        "1. First, solve the homogeneous equation $y'' + p y' + q = 0$\n",
        "\n",
        "The solution: $y_h(t) = c_1 y_1 + c_2 y_2$ with $c_1$ and $c_2$ are yet undetermined.\n",
        "\n",
        "2. Guess the form of the particular solution $y_p$ solving $y'' + p y' + q = f(x)$\n",
        "\n",
        "Solve for undetermined coefficient of $y_p$\n",
        "\n",
        "3. Put $y_h$ and $y_p$ together and solve for $c_1$ and $c_2$ using initial conditions."
      ],
      "metadata": {
        "id": "UXYBTgAPbJ9z"
      }
    },
    {
      "cell_type": "markdown",
      "source": [
        "### Example\n",
        "\n",
        "$\\ddot{x} + 3 \\dot{x} + 2 x = e^{-3 t}$\n",
        "\n",
        "with $x(0) = 2$ and $\\dot{x}(0) = -4$"
      ],
      "metadata": {
        "id": "-04Dn0c0cRA9"
      }
    },
    {
      "cell_type": "markdown",
      "source": [
        "1. Homegeneous solution: $\\ddot{x} + 3 \\dot{x} + 2 x = 0$\n",
        "\n",
        "* $x(t) = e^{\\lambda t}$\n",
        "* $e^{\\lambda t} \\left( \\lambda^2 + 3 \\lambda + 2 \\right) = 0$\n",
        "* $\\lambda^2 + 3 \\lambda + 2 = 0$\n",
        "* $(\\lambda + 1)(\\lambda + 2) = 0$\n",
        "* $\\lambda_1, \\lambda_2 = -1, -2$\n",
        "\n",
        "$$x_h(t) = c_1 e^{-t} + c_2 e^{-2 t}$$\n"
      ],
      "metadata": {
        "id": "nVMdkmpOcbcs"
      }
    },
    {
      "cell_type": "markdown",
      "source": [
        "2. Particular solution: $\\ddot{x} + 3 \\dot{x} + 2 x = e^{-3 t}$\n",
        "\n",
        "* $x_p(t) = K e^{-3 t}$\n",
        "* $K e^{- 3 t} \\left( 9 - 9 + 2\\right) = e^{-3 t}$\n",
        "* $2 K = 1$\n",
        "* $K = 0.5$\n",
        "\n",
        "$$x_p(t) = 0.5 e^{-3 t}$$"
      ],
      "metadata": {
        "id": "JyenolYcdS26"
      }
    },
    {
      "cell_type": "markdown",
      "source": [
        "3. Work on the initial conditions\n",
        "\n",
        "$$x(t) = c_1 e^{-t} + c_2 e^{-2 t} + 0.5 e^{-3 t}$$\n",
        "\n",
        "* $x(0) = 2 = c_1 + c_2 + 0.5$\n",
        "* $\\dot{x}(0) = -4 = - c_1 - 2 c_2 - 1.5$\n"
      ],
      "metadata": {
        "id": "Jpkx4-8veFyU"
      }
    },
    {
      "cell_type": "markdown",
      "source": [
        "$c_2 = 1$ and $c_1 = 0.5$\n",
        "\n",
        "\n",
        "$$x(t) = 0.5 e^{-t} + e^{-2 t} + 0.5 e^{-3 t}$$"
      ],
      "metadata": {
        "id": "MTFJuLO2faBq"
      }
    },
    {
      "cell_type": "markdown",
      "source": [
        "## Choice Rules for the method of undetermined coefficients"
      ],
      "metadata": {
        "id": "gFeS1OtSOgW9"
      }
    },
    {
      "cell_type": "markdown",
      "source": [
        "What form should we choose for a particular solution?\n",
        "\n",
        "We can use this guideline, called \"Choice Rules\"."
      ],
      "metadata": {
        "id": "ylWlnuTUf6sO"
      }
    },
    {
      "cell_type": "markdown",
      "source": [
        "$y'' + a y' + b y = r(x)$ ... (Eq. 4)\n",
        "\n",
        "* **Basic rule.** If $r(x)$ is one of the functions in the first column in Table 2.1, choose $y_p$ in the same line and determine its undetermined coefficients by substituting $y_p$ and its derivatives into (Eq. 4).\n",
        "\n",
        "* **Modification rule.** If a term in your choice for $y_p$ happens to be a solution of the homogeneous ODE corresponding to (Eq. 4), multiply your choice of $y_p$ by $x$ (or by $x^2$ if this solution corresponds to a double root of the characteristic equation of the homogeneous ODE).\n",
        "\n",
        "* **Sum rule.** If $r(x)$ is a sum of functions in the first column of Table 2.1, choose for $y_p$ the sum of the functions in the corresponding lines of the second column."
      ],
      "metadata": {
        "id": "dd_QF26sl4ap"
      }
    },
    {
      "cell_type": "markdown",
      "source": [
        "Table 2.1\n",
        "\n",
        "| Term in $r(x)$ .......................... | Choice for $y_p(x)$  ............................................................ |\n",
        "|----------------|---------------------|\n",
        "|$k e^{\\gamma x}$| $C e^{\\gamma x}$    |\n",
        "|$kx^n$ ($n$=0, 1, ...)| $K_n x^n + K_{n-1} x^{n-1} + \\cdots + K_1 x + K_0$ |\n",
        "|$k \\cos \\omega x$ or $k \\sin \\omega x$ | $K \\cos \\omega x + M \\sin \\omega x$ |\n",
        "|$k e^{\\alpha x} \\cos \\omega x$ or $k e^{\\alpha x} \\sin \\omega x$ | $e^{\\alpha x} (K \\cos \\omega x + M \\sin \\omega x)$ |\n",
        "\n"
      ],
      "metadata": {
        "id": "5_m86lGvneQH"
      }
    },
    {
      "cell_type": "markdown",
      "source": [
        "### Example: constant\n",
        "\n",
        "$\\ddot{x} + 3 \\dot{x} + 2 x = 12$\n",
        "\n",
        "with $x(0) = 2$ and $\\dot{x}(0) = -4$"
      ],
      "metadata": {
        "id": "OAv6jvmupbva"
      }
    },
    {
      "cell_type": "markdown",
      "source": [
        "1. Homogeneous solution\n",
        "\n",
        "$$x_h(t) = c_1 e^{-t} + c_2 e^{-2 t}$$\n"
      ],
      "metadata": {
        "id": "5goOUZiCqyj-"
      }
    },
    {
      "cell_type": "markdown",
      "source": [
        "2. Particular solution\n",
        "\n",
        "$x_p(t) = K$\n",
        "\n",
        "* $0 + 0 + 2K = 12$\n",
        "* $K = 6$\n",
        "\n",
        "$$x_p(t) = 6$$"
      ],
      "metadata": {
        "id": "wUwMv6__q5s3"
      }
    },
    {
      "cell_type": "markdown",
      "source": [
        "3. Work the initial conditions\n",
        "\n",
        "$x(t) = c_1 e^{-t} + c_2 e^{-2 t} + 6$\n",
        "* $x(0) = 2 = c_1 + c_2 + 6$\n",
        "* $\\dot{x}(0) = -4 = -c_1 - 2 c_2$"
      ],
      "metadata": {
        "id": "6qiawTeJrHsw"
      }
    },
    {
      "cell_type": "markdown",
      "source": [
        "$c_2 = 8$ and $c_1 = -12$\n",
        "\n",
        "$$x(t) = -12 e^{-t} + 8 e^{-2 t} + 6$$"
      ],
      "metadata": {
        "id": "ZVlpwf73rkNs"
      }
    },
    {
      "cell_type": "markdown",
      "source": [
        "### Example: constant with zeroth term"
      ],
      "metadata": {
        "id": "4HZIIFPCpek4"
      }
    },
    {
      "cell_type": "markdown",
      "source": [
        "$\\ddot{x} + 3 \\dot{x} = 12$\n",
        "\n",
        "with $x(0) = 2$ and $\\dot{x}(0) = -4$"
      ],
      "metadata": {
        "id": "wxINWCgHsPvz"
      }
    },
    {
      "cell_type": "markdown",
      "source": [
        "1. Homegeneous\n",
        "\n",
        "* $x(t) = e^{\\lambda t}$\n",
        "* $\\dot{x}(t) = \\lambda e^{\\lambda t}$\n",
        "* $\\ddot{x}(t) = \\lambda^2 e^{\\lambda t}$\n",
        "* $e^{\\lambda t} \\left( \\lambda^2 + 3 \\lambda \\right) = 0$\n",
        "* $\\lambda_1, \\lambda_2 = 0, -3$"
      ],
      "metadata": {
        "id": "y3Jh3pKFsRph"
      }
    },
    {
      "cell_type": "markdown",
      "source": [
        "$$x_h(t) = c_1 + c_2 e^{-3 t}$$"
      ],
      "metadata": {
        "id": "kAqcrI19s3Nl"
      }
    },
    {
      "cell_type": "markdown",
      "source": [
        "2. Particular\n",
        "\n",
        "* Basic rule: $x_p(t) = K$\n",
        "* $K$ is the same as homogenous solution 1.\n",
        "  * Modification rule: $x_p(t) = K t$\n",
        "* $0 + 3 K = 12$\n",
        "* $K = 4$\n",
        "\n",
        "$$x_p(t) = 4 t$$"
      ],
      "metadata": {
        "id": "R7wEy7L1s-zy"
      }
    },
    {
      "cell_type": "markdown",
      "source": [
        "3. Initial conditions\n",
        "\n",
        "* $x(t) = c_1 + c_2 e^{-3 t} + 4 t$\n",
        "* $x(0) = 2 = c_1 + c_2 + 0$\n",
        "* $\\dot{x}(0) = -4 = 0 -3 c_2 + 0$"
      ],
      "metadata": {
        "id": "9o5hGWNBt2Dm"
      }
    },
    {
      "cell_type": "markdown",
      "source": [
        "$c_2 = 4/3$ and $c_1 = 2/3$"
      ],
      "metadata": {
        "id": "ar6RnkJjsoij"
      }
    },
    {
      "cell_type": "markdown",
      "source": [
        "$$x(t) = \\frac{2}{3} + \\frac{4}{3} e^{-3 t} + 4 t$$"
      ],
      "metadata": {
        "id": "Odex3pvZud3u"
      }
    },
    {
      "cell_type": "markdown",
      "source": [
        "### Example: resonance"
      ],
      "metadata": {
        "id": "god-ViiWf1sG"
      }
    },
    {
      "cell_type": "markdown",
      "source": [
        "$\\ddot{x} + 3 \\dot{x} + 2 x = 4 e^{-2 t}$\n",
        "\n",
        "with $x(0) = 2$ and $\\dot{x}(0) = -4$"
      ],
      "metadata": {
        "id": "R4M9ec_xvoBp"
      }
    },
    {
      "cell_type": "markdown",
      "source": [
        "1. Homogeneous\n",
        "\n",
        "$$x_h(t) = c_1 e^{-t} + c_2 e^{-2 t}$$\n"
      ],
      "metadata": {
        "id": "3vlWnUGVMT6p"
      }
    },
    {
      "cell_type": "markdown",
      "source": [
        "2. Particular\n",
        "\n",
        "* **Basic rule:** $x_p(t) = K e^{-2 t}$\n",
        "* But $e^{-2 t}$ is the 2nd homogeneous solution!\n",
        "* **Modification rule:** $x_p(t) = K t e^{-2 t}$"
      ],
      "metadata": {
        "id": "A4ONcwpbMuuk"
      }
    },
    {
      "cell_type": "markdown",
      "source": [
        "* $x_p = K t e^{-2 t}$\n",
        "* $\\dot{x}_p = -2 K t e^{-2 t} + K e^{-2 t}$\n",
        "* $\\ddot{x}_p = 4 K t e^{-2 t} -2 K e^{-2 t} - 2 K e^{-2 t}$ $=4 K t e^{-2 t} -4 K e^{-2 t}$"
      ],
      "metadata": {
        "id": "NBlfNKW3NIjy"
      }
    },
    {
      "cell_type": "markdown",
      "source": [
        "Hence,\n",
        "\n",
        "$4 K t e^{-2 t} -4 K e^{-2 t} -6 K t e^{-2 t} + 3 K e^{-2 t} + 2 K t e^{-2 t} = 4 e^{-2 t}$"
      ],
      "metadata": {
        "id": "oBI5h9OBNuob"
      }
    },
    {
      "cell_type": "markdown",
      "source": [
        "\\begin{align}\n",
        "(- 4K + 3K) e^{-2 t} + (4K - 6K + 2K) t e^{-2 t} &= 4 e^{-2 t}\n",
        "\\\\\n",
        "-K e^{-2 t} + 0 &= 4 e^{-2 t}\n",
        "\\\\\n",
        "K &= -4\n",
        "\\end{align}"
      ],
      "metadata": {
        "id": "cEBgc6mbOFhX"
      }
    },
    {
      "cell_type": "markdown",
      "source": [
        "$$ x_p(t) = -4 t e^{-2 t}$$"
      ],
      "metadata": {
        "id": "SzkJ3pkZPe7w"
      }
    },
    {
      "cell_type": "markdown",
      "source": [
        "3. Initial conditions\n",
        "\n",
        "* $x(t) = c_1 e^{-t} + c_2 e^{-2 t} -4 t e^{-2 t}$\n",
        "* $x(0) = c_1 + c_2 = x_0$\n",
        "* $\\dot{x}(0) = -c_1 - 2 c_2 -4 = v_0$"
      ],
      "metadata": {
        "id": "xaeJYXNZPz6U"
      }
    },
    {
      "cell_type": "markdown",
      "source": [
        "* $c_1 = 2 x_0 + v_0 + 4$ $= 4$\n",
        "* $c_2 = -x_0 - v_0 - 4$ $= -2$"
      ],
      "metadata": {
        "id": "PPY4SiAlQNx_"
      }
    },
    {
      "cell_type": "markdown",
      "source": [
        "$$x(t) = 4 e^{-t} -2 e^{-2 t} -4 t e^{-2 t}$$"
      ],
      "metadata": {
        "id": "orngKrl6RMEa"
      }
    },
    {
      "cell_type": "code",
      "source": [
        "x = lambda t : 4*np.exp(-t) - 2*np.exp(-2 * t) - 4 * t * np.exp(-2 * t)\n",
        "\n",
        "ts = np.linspace(0, 8, 500)\n",
        "\n",
        "plt.plot(ts, x(ts))"
      ],
      "metadata": {
        "colab": {
          "base_uri": "https://localhost:8080/",
          "height": 447
        },
        "id": "NeRLMjIQRLGZ",
        "outputId": "689133f7-3d7f-4817-e85d-b3770bb7abcc"
      },
      "execution_count": 6,
      "outputs": [
        {
          "output_type": "execute_result",
          "data": {
            "text/plain": [
              "[<matplotlib.lines.Line2D at 0x7998c43bfe50>]"
            ]
          },
          "metadata": {},
          "execution_count": 6
        },
        {
          "output_type": "display_data",
          "data": {
            "text/plain": [
              "<Figure size 640x480 with 1 Axes>"
            ],
            "image/png": "[encoded data removed]"
          },
          "metadata": {}
        }
      ]
    },
    {
      "cell_type": "markdown",
      "source": [
        "## Method of variation of parameters"
      ],
      "metadata": {
        "id": "8CBPjiRROts8"
      }
    },
    {
      "cell_type": "markdown",
      "source": [
        "Example: $\\ddot{x} + 3 \\dot{x} + 2 x = 4 e^{-2 t}$\n",
        "\n",
        "with $x(0) = 2$ and $\\dot{x}(0) = -4$\n",
        "\n"
      ],
      "metadata": {
        "id": "WSFUVlxMSTx_"
      }
    },
    {
      "cell_type": "markdown",
      "source": [
        "1. Given the homogeneous solution\n",
        "$x_h(t) = c_1 e^{\\lambda_1 t} + c_2 e^{\\lambda_2 t}$,\n",
        "\n",
        "  The complete solution can be derived from\n",
        "  $x(t) = u_1(t) e^{\\lambda_1 t} + u_2(t) e^{\\lambda_2 t}$\n",
        "\n",
        "  > * Given $x_h(t) = c_1 e^{- t} + c_2 e^{-2 t}$,\n",
        "  let $x(t) = u_1(t) e^{- t} + u_2(t) e^{-2 t}$.\n",
        "\n",
        "2. Substitute the $x$ into the equation and solve for $u_1$ and $u_2$.\n",
        "\n",
        "  > * $x(t) = u_1(t) e^{- t} + u_2(t) e^{-2 t}$\n",
        "  * $\\dot{x}(t) = - u_1(t) e^{- t} -2 u_2(t) e^{-2 t} + \\dot{u}_1(t) e^{- t} + \\dot{u}_2(t) e^{-2 t}$\n",
        "\n",
        "3. Impose a constraint to simplify the analysis\n",
        "\n",
        "  > * Let $\\dot{u}_1(t) e^{- t} + \\dot{u}_2(t) e^{-2 t} = 0$\n",
        "\n",
        "4. Carry on\n",
        "\n",
        "  > * $\\ddot{x}(t) = u_1(t) e^{-t} -\\dot{u}_1(t) e^{-t} + 4 u_2(t) e^{-2 t} - 2 \\dot{u}_2(t) e^{-2 t}$"
      ],
      "metadata": {
        "id": "8-S6LkKETDeP"
      }
    },
    {
      "cell_type": "markdown",
      "source": [
        "> Substitute the $x$ into the equation:\n",
        "$u_1(t) e^{-t} -\\dot{u}_1(t) e^{-t} + 4 u_2(t) e^{-2 t} - 2 \\dot{u}_2(t) e^{-2 t} + - 3 u_1(t) e^{- t} -6 u_2(t) e^{-2 t} + 2 u_1(t) e^{- t} + 2 u_2(t) e^{-2 t} = 4 e^{-2 t}$"
      ],
      "metadata": {
        "id": "l7mrv1NhVBa_"
      }
    },
    {
      "cell_type": "markdown",
      "source": [
        "Recollect terms\n",
        "\n",
        "\\begin{align}\n",
        "\\left( u_1 -3 u_1 + 2 u_1 \\right) e^{- t} + \\left( 4 u_2 - 6 u_2 + 2 u_2 \\right) e^{-2 t} -\\dot{u}_1 e^{- t} -2 \\dot{u}_2 e^{-2 t} &= 4 e^{-2 t}\n",
        "\\\\\n",
        "0 + 0 -\\dot{u}_1 e^{- t} -2 \\dot{u}_2 e^{-2 t} &= 4 e^{-2 t}\n",
        "\\end{align}\n"
      ],
      "metadata": {
        "id": "T-a8xgZCVhkA"
      }
    },
    {
      "cell_type": "markdown",
      "source": [
        "Note\n",
        "* $u_1$ and $u_2$ terms are always combined to $0$, since they are derived from homegeneous solutions."
      ],
      "metadata": {
        "id": "NOtn6zhNWjkV"
      }
    },
    {
      "cell_type": "markdown",
      "source": [
        "We are down to 2 equations:\n",
        "* $-\\dot{u}_1 e^{- t} -2 \\dot{u}_2 e^{-2 t} = 4 e^{-2 t}$\n",
        "* $\\dot{u}_1 e^{- t} + \\dot{u}_2 e^{-2 t} = 0$ (Our imposed constraint)"
      ],
      "metadata": {
        "id": "8-hF3jMDW-bd"
      }
    },
    {
      "cell_type": "markdown",
      "source": [
        "That is,\n",
        "\n",
        "$\\dot{u}_2 = - e^{-t - -2t} \\dot{u}_1 = - e^{t} \\dot{u}_1$\n",
        "\n",
        "Hence,\n",
        "\\begin{align}\n",
        "-\\dot{u}_1 e^{- t} + 2 (e^{t} \\dot{u}_1) e^{-2 t} &= 4 e^{-2 t}\n",
        "\\\\\n",
        "-\\dot{u}_1 e^{- t} + 2 \\dot{u}_1 e^{- t} &= 4 e^{-2 t}\n",
        "\\\\\n",
        "\\dot{u}_1 e^{- t} &= 4 e^{-2 t}\n",
        "\\\\\n",
        "\\dot{u}_1 &= 4 e^{- t}\n",
        "\\end{align}"
      ],
      "metadata": {
        "id": "ulBm0_W3XZq5"
      }
    },
    {
      "cell_type": "markdown",
      "source": [
        "* $u_1 = \\int 4 e^{-t} dt = -4 e^{-t} + k_1$\n",
        "* $\\dot{u}_2 = - e^{t} 4 e^{-t} = -4$\n",
        "  * $u_2 = \\int -4 dt = -4 t + k_2$"
      ],
      "metadata": {
        "id": "nIAKrSs2Ydbr"
      }
    },
    {
      "cell_type": "markdown",
      "source": [
        "Hence\n",
        "\n",
        "\\begin{align}\n",
        "x(t) &= (-4 e^{-t} + k_1) e^{-t} + (-4 t + k_2) e^{-2 t}\n",
        "\\\\\n",
        "&= -4 e^{-2 t} + k_1 e^{- t} -4 t e^{-2 t} + k_2 e^{-2 t}\n",
        "\\\\\n",
        "&= k_1 e^{- t} + (k_2 - 4) e^{-2 t} -4 t e^{-2 t}\n",
        "\\end{align}\n"
      ],
      "metadata": {
        "id": "btYcamKkZBFc"
      }
    },
    {
      "cell_type": "markdown",
      "source": [
        "Work the initial conditions,\n",
        "* $x(0) = x_0 = 2 = k_1 + k_2 - 4 - 0$\n",
        "* $\\dot{x}(0) = v_0 = -4 = -k_1 -2 k_2 + 8 - 0 -4$"
      ],
      "metadata": {
        "id": "X998FoZXZu0a"
      }
    },
    {
      "cell_type": "markdown",
      "source": [
        "\\begin{align}\n",
        "\\begin{bmatrix}\n",
        "1 & 1 \\\\\n",
        "-1 & -2 \\\\\n",
        "\\end{bmatrix}\n",
        "\\cdot\n",
        "\\begin{bmatrix}\n",
        "k_1 \\\\ k_2\n",
        "\\end{bmatrix}\n",
        "=\n",
        "\\begin{bmatrix}\n",
        "6 \\\\ -8\n",
        "\\end{bmatrix}\n",
        "\\end{align}"
      ],
      "metadata": {
        "id": "9USEOcL_Xxjy"
      }
    },
    {
      "cell_type": "code",
      "source": [
        "A = np.array([[1, 1], [-1, -2]])\n",
        "b = np.array([[6], [-8]])\n",
        "\n",
        "np.linalg.solve(A, b)"
      ],
      "metadata": {
        "colab": {
          "base_uri": "https://localhost:8080/"
        },
        "id": "5L1gNilMbuzo",
        "outputId": "511b9cc3-af4e-459f-b595-a7a8764e32ef"
      },
      "execution_count": 7,
      "outputs": [
        {
          "output_type": "execute_result",
          "data": {
            "text/plain": [
              "array([[4.],\n",
              "       [2.]])"
            ]
          },
          "metadata": {},
          "execution_count": 7
        }
      ]
    },
    {
      "cell_type": "markdown",
      "source": [
        "$k_1 = 4$ and $k_2 = 2$\n",
        "\n",
        "Therefore\n",
        "\n",
        "$x(t) = 4 e^{- t} + (2 - 4) e^{-2 t} -4 t e^{-2 t}$\n",
        "\n",
        "or\n",
        "\n",
        "$$x(t) = 4 e^{- t} - 2 e^{-2 t} -4 t e^{-2 t}$$\n"
      ],
      "metadata": {
        "id": "6plO9u_ob5JM"
      }
    },
    {
      "cell_type": "markdown",
      "source": [
        "This matches the resonance example above."
      ],
      "metadata": {
        "id": "CVuzy5apd7-t"
      }
    },
    {
      "cell_type": "markdown",
      "source": [
        "# LCA: Second-Order ODE\n",
        "\n",
        "Given\n",
        "$a_2 \\frac{d^2 x}{d t^2} + a_1 \\frac{d x}{d t} + a_0 x = f(t)$,\n",
        "the solution $x(t) = x_h(t) + x_p(t)$.\n",
        "\n",
        "\n",
        "\n",
        "\n"
      ],
      "metadata": {
        "id": "9Zd3ErBXJaN3"
      }
    },
    {
      "cell_type": "markdown",
      "source": [
        "## Homogeneous solution\n",
        "The homogeneous solution $x_h(t)$ solving $a_2 \\frac{d^2 x}{d t^2} + a_1 \\frac{d x}{d t} + a_0 x = 0$ can be summarized to\n",
        "\n",
        "* when $a_1^2 > 4 a_0 a_2$ (\"over-damped\")\n",
        "\n",
        "  $x_h = A_1 e^{s_1 t} + A_2 e^{s_2 t}$\n",
        "\n",
        "* when $a_1^2 = 4 a_0 a_2$ (\"critically-damped\")\n",
        "\n",
        "  $x_h = A_1 e^{s t} + A_2 t e^{s t}$\n",
        "\n",
        "* when $a_1^2 < 4 a_0 a_2$ (\"under-damped\")\n",
        "\n",
        "  $x_h = e^{-\\alpha t} \\left( A_1 \\cos(\\omega t) + A_2 \\sin(\\omega t) \\right)$\n"
      ],
      "metadata": {
        "id": "LZhNo2B0J7tz"
      }
    },
    {
      "cell_type": "markdown",
      "source": [
        "where\n",
        "* $\\alpha = \\frac{a_1}{2 a_2}$\n",
        "* $\\omega = \\frac{\\sqrt{4 a_0 a_2 - a_1^2}}{2 a_2}$\n",
        "* $s = - \\alpha$\n",
        "* $s_1 = - \\alpha -  i \\omega$\n",
        "* $s_2 = - \\alpha + i \\omega$"
      ],
      "metadata": {
        "id": "D7Mone-zKlM0"
      }
    },
    {
      "cell_type": "markdown",
      "source": [
        "Method 3: guess with exponential\n",
        "\n",
        "Let\n",
        "* $x_h(t) = e^{\\lambda t}$\n",
        "* $\\dot{x}(t) = \\lambda e^{\\lambda t}$\n",
        "* $\\ddot{x}(t) = \\lambda^2 e^{\\lambda t}$"
      ],
      "metadata": {
        "id": "bWtKs-AsgBV3"
      }
    },
    {
      "cell_type": "markdown",
      "source": [
        "Homogeneous equation\n",
        "\n",
        "* $a_2 \\ddot{x} + a_1 \\dot{x} + a_0 x = 0$\n",
        "* $e^{\\lambda t} \\left( a_2 \\lambda^2 + a_1 \\lambda + a_0 \\right) = 0$\n",
        "* $a_2 \\lambda^2 + a_1 \\lambda + a_0 = 0$\n",
        "* $\\lambda_1, \\lambda_2 = \\frac{-a_1 \\pm \\sqrt{a_1^2 - 4 a_2 a_0}}{2 a_2}$"
      ],
      "metadata": {
        "id": "Hc2FaMwHgcoo"
      }
    },
    {
      "cell_type": "markdown",
      "source": [
        "* Case 1: two real roots\n",
        "\n",
        "  * $x_h(t) = c_1 e^{\\lambda_1 t} + c_2 e^{\\lambda_2 t}$\n",
        "\n",
        "* Case 2: double root\n",
        "  \n",
        "  * $\\lambda = -\\frac{a_1}{2 a_2}$\n",
        "  * $x_1 = e^{\\lambda t}$\n",
        "  * From reduction of order, $x_2 = t e^{\\lambda t}$\n",
        "  * $x_h(t) = c_1 e^{\\lambda t} + c_2 t e^{\\lambda t}$\n",
        "\n",
        "* Case 3: two complex roots\n",
        "\n",
        "  * $\\lambda_1, \\lambda_2 = \\frac{-a_1 \\pm i \\sqrt{4 a_2 a_0 - a_1^2}}{2 a_2}$\n",
        "  * $x_h(t) = c_1 e^{\\lambda_1 t} + c_2 e^{\\lambda_2 t}$"
      ],
      "metadata": {
        "id": "R0Df_wvZhczr"
      }
    },
    {
      "cell_type": "markdown",
      "source": [
        "Recall\n",
        "* $\\lambda_1 = -\\alpha + i \\omega$\n",
        "* $\\lambda_2 = -\\alpha - i \\omega$"
      ],
      "metadata": {
        "id": "RyGLA_2sio-V"
      }
    },
    {
      "cell_type": "markdown",
      "source": [
        "\\begin{align}\n",
        "x_h(t) &= c_1 e^{ (-\\alpha + i \\omega) t} + c_2 e^{(-\\alpha - i \\omega) t}\n",
        "\\\\\n",
        "&= e^{-\\alpha t} \\left( c_1 e^{i \\omega t} + c_2 e^{-i \\omega t} \\right)\n",
        "\\end{align}"
      ],
      "metadata": {
        "id": "PTD4m86EjIT1"
      }
    },
    {
      "cell_type": "markdown",
      "source": [
        "From Euler: $e^{i \\theta} = \\cos \\theta + i \\sin \\theta$\n",
        "\n",
        "\\begin{align}\n",
        "x_h(t) &= e^{-\\alpha t} \\left( (c_1 + c_2) \\cos \\omega t + i(c_1 - c_2) \\sin \\omega t \\right)\n",
        "\\end{align}"
      ],
      "metadata": {
        "id": "VFUqi2hnjuym"
      }
    },
    {
      "cell_type": "markdown",
      "source": [
        "Let\n",
        "* $A_1 \\equiv c_1 + c_2$\n",
        "* $A_2 \\equiv i(c_1 - c_2)$\n",
        "\n"
      ],
      "metadata": {
        "id": "r5vyyXSdk26b"
      }
    },
    {
      "cell_type": "markdown",
      "source": [
        "$$x_h(t) = e^{-\\alpha t} \\left( A_1 \\cos \\omega t + A_2 \\sin \\omega t \\right)$$\n"
      ],
      "metadata": {
        "id": "k8LuYjNYlBM9"
      }
    },
    {
      "cell_type": "markdown",
      "source": [
        "# End"
      ],
      "metadata": {
        "id": "PquJpBbiJZRg"
      }
    }
  ]
}