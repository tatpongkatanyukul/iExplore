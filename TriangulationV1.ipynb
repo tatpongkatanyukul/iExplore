{
  "nbformat": 4,
  "nbformat_minor": 0,
  "metadata": {
    "colab": {
      "provenance": [],
      "toc_visible": true
    },
    "kernelspec": {
      "name": "python3",
      "display_name": "Python 3"
    },
    "language_info": {
      "name": "python"
    }
  },
  "cells": [
    {
      "cell_type": "code",
      "source": [
        "import numpy as np\n",
        "from matplotlib import pyplot as plt"
      ],
      "metadata": {
        "id": "E8iaGpL0qRhl"
      },
      "execution_count": 1,
      "outputs": []
    },
    {
      "cell_type": "markdown",
      "source": [
        "* Given references\n",
        "  * $R_1 = (x_1, y_1)$,\n",
        "  * $R_2 = (x_2, y_2)$,\n",
        "  * $R_3 = (x_3, y_3)$,\n",
        "  * $R_4 = (x_4, y_4)$, and\n",
        "  * $R_5 = (x_5, y_5)$,\n",
        "\n",
        "Find position of $Z = (x, y)$ for $Z$ seeing the signal strength from $R_1$ to $R_5$ as\n",
        "$S_1$ to $S_5$.\n",
        "\n",
        "\n"
      ],
      "metadata": {
        "id": "bHe120De_-Ik"
      }
    },
    {
      "cell_type": "markdown",
      "source": [
        "# Test case"
      ],
      "metadata": {
        "id": "FaXLKni-AsDL"
      }
    },
    {
      "cell_type": "code",
      "source": [
        "Ref = np.array([[100, 0], [100, 100], [0, 100],\n",
        "       [0, 0], [-20, 50]])\n",
        "\n",
        "# The ground-truth position of the device\n",
        "Zgt = np.array((30, 70)).reshape((1,2))\n",
        "\n",
        "# The distance\n",
        "D = np.sqrt(np.sum( (Ref - Zgt)**2, axis = 1 ))\n",
        "\n",
        "D\n",
        "\n"
      ],
      "metadata": {
        "colab": {
          "base_uri": "https://localhost:8080/"
        },
        "id": "lw3YZxLgAvxu",
        "outputId": "5cfad539-eaab-4ddb-8ef1-c30075863d5e"
      },
      "execution_count": 2,
      "outputs": [
        {
          "output_type": "execute_result",
          "data": {
            "text/plain": [
              "array([98.99494937, 76.15773106, 42.42640687, 76.15773106, 53.85164807])"
            ]
          },
          "metadata": {},
          "execution_count": 2
        }
      ]
    },
    {
      "cell_type": "code",
      "source": [
        "# Signal strength is proposional to the distance\n",
        "\n",
        "S = 1/D**2\n",
        "\n",
        "S"
      ],
      "metadata": {
        "colab": {
          "base_uri": "https://localhost:8080/"
        },
        "id": "PQgxTCz3DWvI",
        "outputId": "2062d344-2e3c-434a-e67d-42ca1312a52d"
      },
      "execution_count": 3,
      "outputs": [
        {
          "output_type": "execute_result",
          "data": {
            "text/plain": [
              "array([0.00010204, 0.00017241, 0.00055556, 0.00017241, 0.00034483])"
            ]
          },
          "metadata": {},
          "execution_count": 3
        }
      ]
    },
    {
      "cell_type": "code",
      "source": [
        "plt.plot(Ref[:,0], Ref[:,1], 'bo')\n",
        "\n",
        "plt.plot(Zgt[0, 0], Zgt[0,1], 'k*')\n"
      ],
      "metadata": {
        "colab": {
          "base_uri": "https://localhost:8080/",
          "height": 447
        },
        "id": "sIqDhQItBqQs",
        "outputId": "6fd77467-64f6-4d70-9cc1-050aa5858398"
      },
      "execution_count": 4,
      "outputs": [
        {
          "output_type": "execute_result",
          "data": {
            "text/plain": [
              "[<matplotlib.lines.Line2D at 0x78f0f0eddc00>]"
            ]
          },
          "metadata": {},
          "execution_count": 4
        },
        {
          "output_type": "display_data",
          "data": {
            "text/plain": [
              "<Figure size 640x480 with 1 Axes>"
            ],
            "image/png": "[encoded data removed]"
          },
          "metadata": {}
        }
      ]
    },
    {
      "cell_type": "markdown",
      "source": [
        "## Solution: weighed average using distance as weight"
      ],
      "metadata": {
        "id": "_Ik3q1jeDffH"
      }
    },
    {
      "cell_type": "code",
      "source": [
        "eD = 1/np.sqrt(S)\n",
        "eD"
      ],
      "metadata": {
        "colab": {
          "base_uri": "https://localhost:8080/"
        },
        "id": "mtInmTlxDlKD",
        "outputId": "f2890ad4-1cd5-4a7d-f060-ac3a01602968"
      },
      "execution_count": 5,
      "outputs": [
        {
          "output_type": "execute_result",
          "data": {
            "text/plain": [
              "array([98.99494937, 76.15773106, 42.42640687, 76.15773106, 53.85164807])"
            ]
          },
          "metadata": {},
          "execution_count": 5
        }
      ]
    },
    {
      "cell_type": "code",
      "source": [
        "w = S\n",
        "w = w/np.sum(w)"
      ],
      "metadata": {
        "id": "HR5i7uNfEZv0"
      },
      "execution_count": 6,
      "outputs": []
    },
    {
      "cell_type": "code",
      "source": [
        "eZ = np.mean( w.reshape((-1, 1)) * Ref, axis =0 )"
      ],
      "metadata": {
        "id": "MG7HhlbqFHid"
      },
      "execution_count": 7,
      "outputs": []
    },
    {
      "cell_type": "code",
      "source": [
        "eZ"
      ],
      "metadata": {
        "colab": {
          "base_uri": "https://localhost:8080/"
        },
        "id": "zlnqVEleFLZR",
        "outputId": "cdb2e059-fea0-40c1-e2ed-f0a43c9ee572"
      },
      "execution_count": 8,
      "outputs": [
        {
          "output_type": "execute_result",
          "data": {
            "text/plain": [
              "array([ 3.05049333, 13.36622171])"
            ]
          },
          "metadata": {},
          "execution_count": 8
        }
      ]
    },
    {
      "cell_type": "code",
      "source": [
        "ref_bar = np.mean(Ref, axis=0)\n",
        "\n",
        "plt.plot(Ref[:,0], Ref[:,1], 'bo')\n",
        "\n",
        "plt.plot(Zgt[0,0], Zgt[0,1], 'k*')\n",
        "plt.plot(ref_bar[0], ref_bar[1], 'rx')\n",
        "\n",
        "plt.plot(eZ[0], eZ[1], 'g+')"
      ],
      "metadata": {
        "colab": {
          "base_uri": "https://localhost:8080/",
          "height": 447
        },
        "id": "xRC4Zo1GEg-c",
        "outputId": "9786bda7-2cb8-44bf-e0b1-1f3b91889c3b"
      },
      "execution_count": 9,
      "outputs": [
        {
          "output_type": "execute_result",
          "data": {
            "text/plain": [
              "[<matplotlib.lines.Line2D at 0x78f0f010fe20>]"
            ]
          },
          "metadata": {},
          "execution_count": 9
        },
        {
          "output_type": "display_data",
          "data": {
            "text/plain": [
              "<Figure size 640x480 with 1 Axes>"
            ],
            "image/png": "[encoded data removed]"
          },
          "metadata": {}
        }
      ]
    },
    {
      "cell_type": "markdown",
      "source": [
        "Simply weighted average does not work!"
      ],
      "metadata": {
        "id": "e_YbJA7nkdKn"
      }
    },
    {
      "cell_type": "markdown",
      "source": [
        "Triangulation\n",
        "\n",
        "* For reference $R_i = (x_i, y_i)$, distance to the unknown point\n",
        "  * $d_i^2 = (x_i - x)^2 + (y_i - y)^2$\n",
        "\n",
        "* Frame it as optimization.\n",
        "\n",
        "$\\min_{x, y} \\sum_i ((x_i - x)^2 + (y_i - y)^2 - d_i^2)^2$"
      ],
      "metadata": {
        "id": "6M-bN4tPdRw3"
      }
    },
    {
      "cell_type": "markdown",
      "source": [
        "Loss $L = \\sum_i ((x_i - x)^2 + (y_i - y)^2 - d_i^2)^2$"
      ],
      "metadata": {
        "id": "5FJ9Ilbbmfag"
      }
    },
    {
      "cell_type": "code",
      "source": [
        "def tloss(P, Rs, Ds):\n",
        "    '''\n",
        "    P : unknown position, np.array (1, 2)\n",
        "    Rs: reference positions, np.array (N, 2)\n",
        "    Ds: distances from the uknown position to references, np.array (N, 1)\n",
        "    '''\n",
        "\n",
        "    C = np.sum( (Rs - P)**2, axis=1).reshape((-1,1)) - Ds**2\n",
        "    loss = np.sum(C**2)\n",
        "    return loss\n",
        "\n",
        "\n",
        "a = tloss(Zgt, Ref, eD.reshape((-1,1)))\n",
        "a"
      ],
      "metadata": {
        "colab": {
          "base_uri": "https://localhost:8080/"
        },
        "id": "Yu-iGbhdDvGA",
        "outputId": "87b33d58-b3b3-4e25-c766-212c57356439"
      },
      "execution_count": 10,
      "outputs": [
        {
          "output_type": "execute_result",
          "data": {
            "text/plain": [
              "1.5561335273653833e-23"
            ]
          },
          "metadata": {},
          "execution_count": 10
        }
      ]
    },
    {
      "cell_type": "markdown",
      "source": [
        "Gradient\n",
        "\n",
        "\\begin{align}\n",
        "\\nabla_{x, y} L &=&\n",
        "\\begin{bmatrix}\n",
        "\\frac{\\partial L}{\\partial x}\n",
        "\\\\\n",
        "\\frac{\\partial L}{\\partial y}\n",
        "\\end{bmatrix}\n",
        "\\\\\n",
        "&=&\n",
        "-4\n",
        "\\begin{bmatrix}\n",
        "\\sum_i ( (x_i - x)^2 + (y_i - y)^2 - d_i^2  ) \\cdot (x_i - x) \\\\\n",
        "\\sum_i ( (x_i - x)^2 + (y_i - y)^2 - d_i^2  ) \\cdot (y_i - y)\n",
        "\\end{bmatrix}\n",
        "\\end{align}"
      ],
      "metadata": {
        "id": "uVzPP3hGmmHL"
      }
    },
    {
      "cell_type": "code",
      "source": [
        "def tgrad(P, Rs, Ds):\n",
        "    '''\n",
        "    P : unknown position, np.array (1, 2)\n",
        "    Rs: reference positions, np.array (N, 2)\n",
        "    Ds: distances from the uknown position to references, np.array (N, 1)\n",
        "    '''\n",
        "\n",
        "    diff = Rs - P            # N x 2\n",
        "\n",
        "    C1 = np.sum( diff**2, axis=1).reshape((-1,1)) - Ds**2  # N x 1\n",
        "    C2 = np.multiply(diff, C1)   # N x 2\n",
        "    dL = -4*np.sum(C2, axis=0).reshape((1, 2))\n",
        "    return dL\n",
        "\n",
        "a = tgrad(eZ, Ref, eD.reshape((-1,1)))\n",
        "a"
      ],
      "metadata": {
        "colab": {
          "base_uri": "https://localhost:8080/"
        },
        "id": "EJ_ZC7SblKkn",
        "outputId": "0fc8654f-8c13-4c20-a2bb-d41cadff5881"
      },
      "execution_count": 11,
      "outputs": [
        {
          "output_type": "execute_result",
          "data": {
            "text/plain": [
              "array([[-4313610.15181475, -5989974.90052387]])"
            ]
          },
          "metadata": {},
          "execution_count": 11
        }
      ]
    },
    {
      "cell_type": "code",
      "source": [
        "eD.shape"
      ],
      "metadata": {
        "colab": {
          "base_uri": "https://localhost:8080/"
        },
        "id": "ylLfa23f1j0A",
        "outputId": "3f052a90-bf42-414b-8513-02f878b34fce"
      },
      "execution_count": 12,
      "outputs": [
        {
          "output_type": "execute_result",
          "data": {
            "text/plain": [
              "(5,)"
            ]
          },
          "metadata": {},
          "execution_count": 12
        }
      ]
    },
    {
      "cell_type": "code",
      "source": [
        "def gdl(grad_loss , w0, step_size , num=500, lossf=None):\n",
        "    w = w0\n",
        "    if lossf is not None:\n",
        "        losses = [lossf(w)]\n",
        "\n",
        "    for i in range(num):\n",
        "        w = w - step_size * grad_loss(w)\n",
        "\n",
        "        if lossf is not None:\n",
        "            losses.append(lossf(w))\n",
        "\n",
        "    if lossf is None:\n",
        "        return w\n",
        "    else:\n",
        "        return w, losses"
      ],
      "metadata": {
        "id": "rOZhyQHpaK8v"
      },
      "execution_count": 14,
      "outputs": []
    },
    {
      "cell_type": "code",
      "source": [
        "E = lambda P: tloss(P, Ref, eD.reshape((-1,1)))\n",
        "dE = lambda P: tgrad(P, Ref, eD.reshape((-1,1)))\n",
        "\n",
        "w0 = np.mean( w.reshape((-1, 1)) * Ref, axis =0 ) # Initialize with average\n",
        "w0 = w0.reshape((1,2))\n",
        "lr = 0.0000003\n",
        "N = 1000\n",
        "wgd, losses = gdl(dE, w0, lr, N, E)\n",
        "\n",
        "plt.plot(losses)\n",
        "plt.xlabel('epochs')\n",
        "plt.ylabel('loss')\n",
        "plt.show()\n",
        "\n",
        "print('\\nMinimizer =', wgd)\n",
        "print('loss =', losses[-1])"
      ],
      "metadata": {
        "colab": {
          "base_uri": "https://localhost:8080/",
          "height": 517
        },
        "id": "1JyZjradX8d-",
        "outputId": "8672e162-0cd2-48bc-82b0-8b3db08a0b86"
      },
      "execution_count": 15,
      "outputs": [
        {
          "output_type": "display_data",
          "data": {
            "text/plain": [
              "<Figure size 640x480 with 1 Axes>"
            ],
            "image/png": "[encoded data removed]"
          },
          "metadata": {}
        },
        {
          "output_type": "stream",
          "name": "stdout",
          "text": [
            "\n",
            "Minimizer = [[30. 70.]]\n",
            "loss = 2.995325843197154e-17\n"
          ]
        }
      ]
    },
    {
      "cell_type": "markdown",
      "source": [
        "The answer is (30, 70), which is correct!!!"
      ],
      "metadata": {
        "id": "Htwv-l0z2Tgh"
      }
    },
    {
      "cell_type": "markdown",
      "source": [
        "# End appendix"
      ],
      "metadata": {
        "id": "3n1R4lJd_2al"
      }
    }
  ]
}